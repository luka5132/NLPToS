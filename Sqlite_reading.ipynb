{
 "cells": [
  {
   "cell_type": "markdown",
   "metadata": {},
   "source": [
    "# Code used to read the data used for finetuning the BERT model"
   ]
  },
  {
   "cell_type": "code",
   "execution_count": null,
   "metadata": {},
   "outputs": [],
   "source": [
    "import sqlite3\n",
    "from sqlite3 import Error\n",
    "\n",
    "\n",
    "path = r\"D:\\release_db.sqlite\"\n",
    "#cur.execute(\"SELECT * FROM policy_texts\")\n",
    "\n",
    "def create_connection(db_file):\n",
    "    \"\"\" create a database connection to the SQLite database\n",
    "        specified by the db_file\n",
    "    :param db_file: database file\n",
    "    :return: Connection object or None\n",
    "    \"\"\"\n",
    "    conn = None\n",
    "    try:\n",
    "        conn = sqlite3.connect(db_file)\n",
    "    except Error as e:\n",
    "        print(e)\n",
    "\n",
    "    return conn\n",
    "\n",
    "conn = create_connection(path)\n",
    "conn.text_factory = lambda b: b.decode(errors = 'ignore')\n",
    "cur = conn.cursor()"
   ]
  },
  {
   "cell_type": "code",
   "execution_count": null,
   "metadata": {},
   "outputs": [],
   "source": [
    "cur.execute(\"SELECT * FROM policy_texts\")\n",
    "\n",
    "example = cur.fetchone()\n",
    "print(len(example))\n",
    "print(type(example))\n",
    "print(\"text is example[1]\")\n",
    "extext = example[1]"
   ]
  },
  {
   "cell_type": "code",
   "execution_count": null,
   "metadata": {},
   "outputs": [],
   "source": [
    "cur.description"
   ]
  },
  {
   "cell_type": "code",
   "execution_count": null,
   "metadata": {},
   "outputs": [],
   "source": [
    "example"
   ]
  },
  {
   "cell_type": "markdown",
   "metadata": {},
   "source": [
    "# Create subdataset of text. Only 10.000 texts"
   ]
  },
  {
   "cell_type": "code",
   "execution_count": null,
   "metadata": {},
   "outputs": [],
   "source": [
    "import csv\n",
    "\n",
    "n_texts = 10000\n",
    "rows = cur.fetchmany(n_texts)\n",
    "\n",
    "csv_name = \"policy_subdata\"\n",
    "colnames = [\"id\",\"policy_text\",\"length\",\"flesch_kincaid\"]\n",
    "\n",
    "with open(csv_name + '.csv', 'w') as f:\n",
    "    writer = csv.writer(f)\n",
    "    writer.writerow(colnames)\n",
    "\n",
    "for row in rows:\n",
    "    pol_id = row[0]\n",
    "    pol_text = row[1]\n",
    "    pol_l = row[7]\n",
    "    pol_fk = row[2]\n",
    "    new_row = [pol_id,pol_text,pol_l,pol_fk]\n",
    "    with open(csv_name + '.csv', 'a', encoding='utf-8') as g:\n",
    "        writer = csv.writer(g)\n",
    "        writer.writerow(new_row)"
   ]
  },
  {
   "cell_type": "code",
   "execution_count": null,
   "metadata": {},
   "outputs": [],
   "source": [
    "#rows = cur.fetchall()\n",
    "\n",
    "newpath =  r\"D:\\raw_texts\"\n",
    "\n",
    "for row in rows:\n",
    "    pol_id = row[0]\n",
    "    pol_text = row[1]\n",
    "    filename = \"/\" + str(pol_id) + \".txt\"\n",
    "    filepath = newpath + filename\n",
    "    afile = open(filepath,\"w\", encoding='utf-8') \n",
    "    afile.write(pol_text)\n",
    "    afile.close()"
   ]
  },
  {
   "cell_type": "code",
   "execution_count": null,
   "metadata": {},
   "outputs": [],
   "source": [
    "a = b'\\x8b'\n",
    "b = a.decode(\"iso-8859-1\")\n",
    "print(b)"
   ]
  },
  {
   "cell_type": "code",
   "execution_count": null,
   "metadata": {},
   "outputs": [],
   "source": [
    "split_for_dots = extext.split('.')\n",
    "split_for_nn = extext.split('\\n\\n')\n",
    "split_for_space = extext.split(' ')"
   ]
  },
  {
   "cell_type": "code",
   "execution_count": null,
   "metadata": {},
   "outputs": [],
   "source": [
    "print(len(split_for_dots))\n",
    "print(len(split_for_nn))\n",
    "print(len(split_for_space))\n"
   ]
  },
  {
   "cell_type": "code",
   "execution_count": null,
   "metadata": {},
   "outputs": [],
   "source": [
    "from transformers import BertConfig, BertTokenizerFast\n",
    "model_name = 'bert-base-uncased'\n",
    "config = BertConfig.from_pretrained(model_name)\n",
    "tokenizer = BertTokenizerFast.from_pretrained(pretrained_model_name_or_path = model_name, config = config)"
   ]
  },
  {
   "cell_type": "code",
   "execution_count": null,
   "metadata": {},
   "outputs": [],
   "source": [
    "def functok(text_in):\n",
    "    return tokenizer(\n",
    "    text=text_in,\n",
    "    add_special_tokens=True,\n",
    "    max_length=512,\n",
    "    truncation=True,\n",
    "    padding=True, \n",
    "    return_tensors='tf',\n",
    "    return_token_type_ids = False,\n",
    "    return_attention_mask = False,\n",
    "    verbose = True)"
   ]
  },
  {
   "cell_type": "code",
   "execution_count": null,
   "metadata": {},
   "outputs": [],
   "source": [
    "max_length = 128\n",
    "x = tokenizer(\n",
    "    text=split_for_nn,\n",
    "    add_special_tokens=True,\n",
    "    max_length=max_length,\n",
    "    truncation=True,\n",
    "    padding=True, \n",
    "    return_tensors='tf',\n",
    "    return_token_type_ids = False,\n",
    "    return_attention_mask = False,\n",
    "    verbose = True)"
   ]
  },
  {
   "cell_type": "code",
   "execution_count": null,
   "metadata": {},
   "outputs": [],
   "source": [
    "rows = cur.fetchall()"
   ]
  },
  {
   "cell_type": "code",
   "execution_count": null,
   "metadata": {},
   "outputs": [],
   "source": [
    "n_rows = len(rows)\n",
    "lenlist = []\n",
    "count = 0\n",
    "for row in rows:\n",
    "    text = row[1]\n",
    "    split_for_nn = text.split('\\n\\n')\n",
    "    for segment in split_for_nn:\n",
    "        size = functok(segment)[\"input_ids\"].shape[1]\n",
    "        lenlist.append(size)\n",
    "    \n",
    "    count+= 1\n",
    "    if count % 10000 == 0:\n",
    "        print(\"finished with 10000 docs, total count: \",count)\n",
    "        print(\"percentag done: \",round(count / n_rows,3),\"%\")\n",
    "\n",
    "    "
   ]
  },
  {
   "cell_type": "code",
   "execution_count": null,
   "metadata": {},
   "outputs": [],
   "source": [
    "from collections import Counter\n",
    "\n",
    "len_counter = Counter(lenlist)"
   ]
  },
  {
   "cell_type": "code",
   "execution_count": null,
   "metadata": {},
   "outputs": [],
   "source": [
    "cur2 = conn.cursor()\n",
    "cur2.execute(\"SELECT * FROM policy_texts WHERE rowid = 2\")\n",
    "a = cur2.fetchone()"
   ]
  },
  {
   "cell_type": "code",
   "execution_count": null,
   "metadata": {},
   "outputs": [],
   "source": [
    "seg = 0\n",
    "i=0\n",
    "rowfound = None\n",
    "while seg < 548:\n",
    "    row = rows[i]\n",
    "    text = row[1]\n",
    "    split_for_nn = text.split('\\n\\n')\n",
    "    split_len = len(split_for_nn)\n",
    "    seg += split_len\n",
    "    rowfound = row\n",
    "    \n",
    "    i+=1"
   ]
  },
  {
   "cell_type": "markdown",
   "metadata": {},
   "source": [
    "# Turning seperate texts into one big .txt file"
   ]
  },
  {
   "cell_type": "code",
   "execution_count": 1,
   "metadata": {},
   "outputs": [],
   "source": [
    "from pathlib import Path\n",
    "import nltk\n",
    "from tensorflow.keras.utils import Progbar\n",
    "\n",
    "regex_tokenizer = nltk.RegexpTokenizer(\"\\w+\")\n",
    "\n",
    "def normalize_text(text):\n",
    "    # lowercase text\n",
    "    text = str(text).lower()\n",
    "    # remove non-UTF\n",
    "    text = text.encode(\"utf-8\", \"ignore\").decode()\n",
    "    # remove punktuation symbols\n",
    "    \n",
    "    tokenized = regex_tokenizer.tokenize(text)\n",
    "    if len(tokenized) > 4:\n",
    "        text = \" \".join(tokenized)\n",
    "        return text\n",
    "    else:\n",
    "        return ''\n",
    "\n"
   ]
  },
  {
   "cell_type": "code",
   "execution_count": 2,
   "metadata": {},
   "outputs": [],
   "source": [
    "def count_files(apath):\n",
    "    genob = Path(apath).glob(\"**/*.txt\")\n",
    "    count = 0\n",
    "    for file in genob:\n",
    "        count += 1\n",
    "    return count"
   ]
  },
  {
   "cell_type": "code",
   "execution_count": 5,
   "metadata": {},
   "outputs": [
    {
     "name": "stdout",
     "output_type": "stream",
     "text": [
      "9999/9999 [==============================] - 37s 4ms/step\n"
     ]
    }
   ],
   "source": [
    "i = 0\n",
    "\n",
    "OUTPUTNAME = \"bigtext.txt\"\n",
    "DIRNAME = \"./data/subsub\"\n",
    "\n",
    "\n",
    "outputfile = open(OUTPUTNAME,\"w\")\n",
    "outputfile.close()\n",
    "\n",
    "src_files = Path(\"./data/raw_texts\").glob(\"**/*.txt\")\n",
    "outputfile = open(OUTPUTNAME,\"a\", encoding=\"utf-8\") #append mode\n",
    "    \n",
    "n_files = count_files(\"./data/raw_texts\")\n",
    "bar = Progbar(n_files)\n",
    "    \n",
    "for src_file in src_files:\n",
    "    #print(\"🔥\", src_file)\n",
    "    text = src_file.read_text(encoding=\"utf-8\")\n",
    "    lines = text.split(\"\\n\\n\")\n",
    "    for line in lines:\n",
    "        sents = line.split('.')\n",
    "        for sent in sents:\n",
    "            norm_sent = normalize_text(sent)\n",
    "            if norm_sent:\n",
    "                outputfile.write(norm_sent + \" \\n\")\n",
    "                #print(norm_sent + \"\\n\")\n",
    "                i +=1\n",
    "    bar.add(1)\n",
    "                    \n",
    "outputfile.close()\n"
   ]
  },
  {
   "cell_type": "code",
   "execution_count": 42,
   "metadata": {
    "scrolled": true
   },
   "outputs": [
    {
     "name": "stdout",
     "output_type": "stream",
     "text": [
      "9603994\n"
     ]
    }
   ],
   "source": [
    "def count_lines2(filename):\n",
    "    count = 0\n",
    "    with open(filename, encoding = 'utf-8') as fi:\n",
    "        for line in fi:\n",
    "            count += 1\n",
    "    return count\n",
    "\n",
    "print(count_lines2(OUTPUTNAME))"
   ]
  },
  {
   "cell_type": "code",
   "execution_count": 12,
   "metadata": {},
   "outputs": [],
   "source": [
    "from nltk import RegexpTokenizer, word_tokenize"
   ]
  },
  {
   "cell_type": "code",
   "execution_count": 1,
   "metadata": {},
   "outputs": [],
   "source": [
    "from pathlib import Path\n",
    "import nltk\n",
    "from tensorflow.keras.utils import Progbar"
   ]
  },
  {
   "cell_type": "code",
   "execution_count": 10,
   "metadata": {},
   "outputs": [],
   "source": [
    "def count_files(apath):\n",
    "    genob = Path(apath).glob(\"**/*.txt\")\n",
    "    count = 0\n",
    "    for file in genob:\n",
    "        count += 1\n",
    "    return count"
   ]
  },
  {
   "cell_type": "code",
   "execution_count": 13,
   "metadata": {},
   "outputs": [
    {
     "name": "stdout",
     "output_type": "stream",
     "text": [
      "333985/333985 [==============================] - 12386s 37ms/step\n"
     ]
    }
   ],
   "source": [
    "OUTPUTNAME = r\"D:\\bigger.txt\"\n",
    "#outputfile = open(OUTPUTNAME,\"w\")\n",
    "#outputfile.close()\n",
    "\n",
    "\n",
    "src_files = Path(r\"D:\\raw_texts\").glob(\"**/*.txt\")\n",
    "outputfile = open(OUTPUTNAME,\"a\", encoding=\"utf-8\") #append mode\n",
    "    \n",
    "n_files = count_files(r\"D:\\raw_texts\")\n",
    "bar = Progbar(n_files)\n",
    "\n",
    "tok_lengths = []\n",
    "\n",
    "ind = 0\n",
    "for src_file in src_files:\n",
    "    if ind <= poss:\n",
    "        pass\n",
    "    else:\n",
    "    #print(\"🔥\", src_file)\n",
    "        text = src_file.read_text(encoding=\"utf-8\")\n",
    "        lines = text.split(\"\\n\\n\")\n",
    "        for line in lines:\n",
    "            toktline = word_tokenize(line)\n",
    "            toklen = len(toktline)\n",
    "            if toklen > 4:\n",
    "                tok_lengths.append(toklen)\n",
    "                strline = ' '.join(toktline)\n",
    "                outputfile.write(strline + \" \\n\")\n",
    "            else:\n",
    "                pass\n",
    "\n",
    "    ind +=1\n",
    "    \n",
    "        \n",
    "    bar.add(1)\n",
    "                    \n",
    "outputfile.close()"
   ]
  },
  {
   "cell_type": "code",
   "execution_count": 26,
   "metadata": {},
   "outputs": [],
   "source": [
    "output_name = r\"D:\\tok_lenghts.csv\"\n",
    "\n",
    "df.to_csv(output_name)"
   ]
  }
 ],
 "metadata": {
  "kernelspec": {
   "display_name": "Python 3",
   "language": "python",
   "name": "python3"
  },
  "language_info": {
   "codemirror_mode": {
    "name": "ipython",
    "version": 3
   },
   "file_extension": ".py",
   "mimetype": "text/x-python",
   "name": "python",
   "nbconvert_exporter": "python",
   "pygments_lexer": "ipython3",
   "version": "3.7.9"
  }
 },
 "nbformat": 4,
 "nbformat_minor": 5
}
