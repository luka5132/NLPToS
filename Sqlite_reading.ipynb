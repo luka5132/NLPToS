{
 "cells": [
  {
   "cell_type": "code",
   "execution_count": 1,
   "id": "respective-probe",
   "metadata": {},
   "outputs": [],
   "source": [
    "import sqlite3\n",
    "from sqlite3 import Error\n",
    "\n",
    "\n",
    "path = r\"D:\\release_db.sqlite\"\n",
    "#cur.execute(\"SELECT * FROM policy_texts\")\n",
    "\n",
    "def create_connection(db_file):\n",
    "    \"\"\" create a database connection to the SQLite database\n",
    "        specified by the db_file\n",
    "    :param db_file: database file\n",
    "    :return: Connection object or None\n",
    "    \"\"\"\n",
    "    conn = None\n",
    "    try:\n",
    "        conn = sqlite3.connect(db_file)\n",
    "    except Error as e:\n",
    "        print(e)\n",
    "\n",
    "    return conn\n",
    "\n",
    "conn = create_connection(path)\n",
    "conn.text_factory = lambda b: b.decode(errors = 'ignore')\n",
    "cur = conn.cursor()"
   ]
  },
  {
   "cell_type": "code",
   "execution_count": 2,
   "id": "powered-retreat",
   "metadata": {},
   "outputs": [
    {
     "name": "stdout",
     "output_type": "stream",
     "text": [
      "8\n",
      "<class 'tuple'>\n",
      "text is example[1]\n"
     ]
    }
   ],
   "source": [
    "cur.execute(\"SELECT * FROM policy_texts\")\n",
    "\n",
    "example = cur.fetchone()\n",
    "print(len(example))\n",
    "print(type(example))\n",
    "print(\"text is example[1]\")\n",
    "extext = example[1]"
   ]
  },
  {
   "cell_type": "code",
   "execution_count": null,
   "id": "commercial-chicken",
   "metadata": {},
   "outputs": [],
   "source": [
    "split_for_dots = extext.split('.')\n",
    "split_for_nn = extext.split('\\n\\n')\n",
    "split_for_space = extext.split(' ')"
   ]
  },
  {
   "cell_type": "code",
   "execution_count": null,
   "id": "technological-variable",
   "metadata": {},
   "outputs": [],
   "source": [
    "print(len(split_for_dots))\n",
    "print(len(split_for_nn))\n",
    "print(len(split_for_space))\n"
   ]
  },
  {
   "cell_type": "code",
   "execution_count": 3,
   "id": "motivated-mention",
   "metadata": {},
   "outputs": [],
   "source": [
    "from transformers import BertConfig, BertTokenizerFast\n",
    "model_name = 'bert-base-uncased'\n",
    "config = BertConfig.from_pretrained(model_name)\n",
    "tokenizer = BertTokenizerFast.from_pretrained(pretrained_model_name_or_path = model_name, config = config)"
   ]
  },
  {
   "cell_type": "code",
   "execution_count": 4,
   "id": "pharmaceutical-rebecca",
   "metadata": {},
   "outputs": [],
   "source": [
    "def functok(text_in):\n",
    "    return tokenizer(\n",
    "    text=text_in,\n",
    "    add_special_tokens=True,\n",
    "    max_length=512,\n",
    "    truncation=True,\n",
    "    padding=True, \n",
    "    return_tensors='tf',\n",
    "    return_token_type_ids = False,\n",
    "    return_attention_mask = False,\n",
    "    verbose = True)"
   ]
  },
  {
   "cell_type": "code",
   "execution_count": null,
   "id": "clean-stewart",
   "metadata": {},
   "outputs": [],
   "source": [
    "max_length = 128\n",
    "x = tokenizer(\n",
    "    text=split_for_nn,\n",
    "    add_special_tokens=True,\n",
    "    max_length=max_length,\n",
    "    truncation=True,\n",
    "    padding=True, \n",
    "    return_tensors='tf',\n",
    "    return_token_type_ids = False,\n",
    "    return_attention_mask = False,\n",
    "    verbose = True)"
   ]
  },
  {
   "cell_type": "code",
   "execution_count": null,
   "id": "selective-intro",
   "metadata": {},
   "outputs": [],
   "source": [
    "type(x['input_ids'])"
   ]
  },
  {
   "cell_type": "code",
   "execution_count": 5,
   "id": "czech-inflation",
   "metadata": {},
   "outputs": [],
   "source": [
    "rows = cur.fetchall()"
   ]
  },
  {
   "cell_type": "code",
   "execution_count": 12,
   "id": "handled-softball",
   "metadata": {},
   "outputs": [
    {
     "name": "stdout",
     "output_type": "stream",
     "text": [
      "finished with 10000 docs, total count:  10000\n",
      "percentag done:  0.03 %\n",
      "finished with 10000 docs, total count:  20000\n",
      "percentag done:  0.06 %\n",
      "finished with 10000 docs, total count:  30000\n",
      "percentag done:  0.09 %\n",
      "finished with 10000 docs, total count:  40000\n",
      "percentag done:  0.12 %\n",
      "finished with 10000 docs, total count:  50000\n",
      "percentag done:  0.15 %\n",
      "finished with 10000 docs, total count:  60000\n",
      "percentag done:  0.18 %\n",
      "finished with 10000 docs, total count:  70000\n",
      "percentag done:  0.21 %\n",
      "finished with 10000 docs, total count:  80000\n",
      "percentag done:  0.24 %\n",
      "finished with 10000 docs, total count:  90000\n",
      "percentag done:  0.269 %\n",
      "finished with 10000 docs, total count:  100000\n",
      "percentag done:  0.299 %\n",
      "finished with 10000 docs, total count:  110000\n",
      "percentag done:  0.329 %\n",
      "finished with 10000 docs, total count:  120000\n",
      "percentag done:  0.359 %\n",
      "finished with 10000 docs, total count:  130000\n",
      "percentag done:  0.389 %\n",
      "finished with 10000 docs, total count:  140000\n",
      "percentag done:  0.419 %\n",
      "finished with 10000 docs, total count:  150000\n",
      "percentag done:  0.449 %\n",
      "finished with 10000 docs, total count:  160000\n",
      "percentag done:  0.479 %\n",
      "finished with 10000 docs, total count:  170000\n",
      "percentag done:  0.509 %\n",
      "finished with 10000 docs, total count:  180000\n",
      "percentag done:  0.539 %\n",
      "finished with 10000 docs, total count:  190000\n",
      "percentag done:  0.569 %\n",
      "finished with 10000 docs, total count:  200000\n",
      "percentag done:  0.599 %\n",
      "finished with 10000 docs, total count:  210000\n",
      "percentag done:  0.629 %\n",
      "finished with 10000 docs, total count:  220000\n",
      "percentag done:  0.659 %\n",
      "finished with 10000 docs, total count:  230000\n",
      "percentag done:  0.689 %\n",
      "finished with 10000 docs, total count:  240000\n",
      "percentag done:  0.719 %\n",
      "finished with 10000 docs, total count:  250000\n",
      "percentag done:  0.749 %\n",
      "finished with 10000 docs, total count:  260000\n",
      "percentag done:  0.778 %\n",
      "finished with 10000 docs, total count:  270000\n",
      "percentag done:  0.808 %\n",
      "finished with 10000 docs, total count:  280000\n",
      "percentag done:  0.838 %\n",
      "finished with 10000 docs, total count:  290000\n",
      "percentag done:  0.868 %\n",
      "finished with 10000 docs, total count:  300000\n",
      "percentag done:  0.898 %\n",
      "finished with 10000 docs, total count:  310000\n",
      "percentag done:  0.928 %\n",
      "finished with 10000 docs, total count:  320000\n",
      "percentag done:  0.958 %\n",
      "finished with 10000 docs, total count:  330000\n",
      "percentag done:  0.988 %\n"
     ]
    }
   ],
   "source": [
    "n_rows = len(rows)\n",
    "lenlist = []\n",
    "count = 0\n",
    "for row in rows:\n",
    "    text = row[1]\n",
    "    split_for_nn = text.split('\\n\\n')\n",
    "    for segment in split_for_nn:\n",
    "        size = functok(segment)[\"input_ids\"].shape[1]\n",
    "        lenlist.append(size)\n",
    "    \n",
    "    count+= 1\n",
    "    if count % 10000 == 0:\n",
    "        print(\"finished with 10000 docs, total count: \",count)\n",
    "        print(\"percentag done: \",round(count / n_rows,3),\"%\")\n",
    "\n",
    "    "
   ]
  },
  {
   "cell_type": "code",
   "execution_count": 15,
   "id": "fancy-eight",
   "metadata": {},
   "outputs": [
    {
     "data": {
      "text/plain": [
       "512"
      ]
     },
     "execution_count": 15,
     "metadata": {},
     "output_type": "execute_result"
    }
   ],
   "source": [
    "max(lenlist)"
   ]
  },
  {
   "cell_type": "code",
   "execution_count": 6,
   "id": "external-university",
   "metadata": {},
   "outputs": [
    {
     "data": {
      "text/plain": [
       "333985"
      ]
     },
     "execution_count": 6,
     "metadata": {},
     "output_type": "execute_result"
    }
   ],
   "source": [
    "len(rows)"
   ]
  },
  {
   "cell_type": "code",
   "execution_count": 16,
   "id": "hungarian-surname",
   "metadata": {},
   "outputs": [],
   "source": [
    "from collections import Counter\n",
    "\n",
    "len_counter = Counter(lenlist)"
   ]
  },
  {
   "cell_type": "code",
   "execution_count": 17,
   "id": "labeled-blackjack",
   "metadata": {},
   "outputs": [
    {
     "data": {
      "text/plain": [
       "35839"
      ]
     },
     "execution_count": 17,
     "metadata": {},
     "output_type": "execute_result"
    }
   ],
   "source": [
    "len_counter[512]"
   ]
  },
  {
   "cell_type": "code",
   "execution_count": 20,
   "id": "statutory-thriller",
   "metadata": {},
   "outputs": [],
   "source": [
    "cur2 = conn.cursor()\n",
    "cur2.execute(\"SELECT * FROM policy_texts WHERE rowid = 2\")\n",
    "a = cur2.fetchone()"
   ]
  },
  {
   "cell_type": "code",
   "execution_count": 21,
   "id": "nutritional-boost",
   "metadata": {},
   "outputs": [
    {
     "data": {
      "text/plain": [
       "(2,\n",
       " 'DocuSign Express™ Privacy Policy (11/03)\\n\\nOverview\\n\\nThe privacy practices of this statement apply to our services available under the domain and sub domains of  www.docusign.com (the \"Site\") (including docusign.net, docusignexpress.com, and docusign-inc.com). By visiting this website you agree to be bound by the terms and conditions of this Privacy Policy. If you do not agree please do not use or access our Site or products. \\n\\nThis Privacy Policy describes the information, as part of the normal operation of our services, we collect from you and what may happen to that information. Although this policy may seem long, we have prepared a detailed policy because we believe you should know as much as possible about DocuSign\\'s practices so that you can make informed decisions. \\n\\nBy accepting the Privacy Policy and the User Agreement in registration, you expressly consent to our use and disclosure of your personal information in accordance with this Privacy Policy. This Privacy Policy is incorporated into and subject to the terms of the DocuSign Terms of Use Agreement. This Privacy Policy is effective upon acceptance in registration for new registering users, and is otherwise effective on November 24th, 2003 for all users. \\n\\n1\\\\. Information We Collect.\\n\\nOur primary purpose in collecting personal information is to provide you with a safe, secure online application which will assist you in sending and signing contracts. In order to do so, DocuSign must collect information to identify users, and to allow our users to identify each other.\\xa0 We only collect information about you that we consider necessary for achieving this purpose. \\n\\nIn general, you can browse the Site without telling us who you are or revealing any personal information about yourself. Once you give us your personal information, you are not anonymous to us. If you choose to use our services, we may require you to provide contact and identity information, billing information, shipping information and other personal information as indicated on the forms throughout the Site. Where possible, we indicate which fields are required and which fields are optional. You always have the option to not provide information by choosing not to use a particular service or feature. \\n\\nUnder some circumstances or users may require some additional information in order to authenticate you such as, but not limited to: your name, your address, or the last 4 digits of your social security number. We may also use financial information, including credit card information to verify the accuracy of your name, address, and other information, as well as to bill you for your use of our services.\\xa0 Under no circumstances will any of this information be used to generate a credit scoring report that will show up against your credit.\\n\\nWe automatically track certain information to increase security such as IP addresses, email addresses, and other information.\\n\\nWe may use data collection devices such as \"cookies\" on certain pages of the Site to help analyze our web page flow, measure effectiveness, and promote trust and safety. \"Cookies\" are small files placed on your hard drive that assist us in providing our services. We offer certain features that are only available through the use of a \"cookie\". We also use cookies to allow you to enter your password less frequently during a session. Cookies can also help us provide information that is targeted to your interests. Most cookies are \"session cookies,\" meaning that they are automatically deleted from your hard drive at the end of a session. You are always free to decline our cookies if your browser permits, although in that case you may not be able to use certain features on the Site and you may be required to reenter your password more frequently during a session. \\n\\nAdditionally, the DocuSign Express™ client is loaded on your computer if you wish to send documents for signature.\\xa0 This client is also governed by this Privacy policy.\\n\\nIf you establish a credit account with us to pay the fees we charge, we collect some additional information, such as a billing address, a credit card number and a credit card expiration date and tracking information from checks or money orders. \\n\\nIf you use DocuSign to send documents we will encrypt and store these documents in an account and make the contents available only to those whom you invite to view or sign these files.\\xa0 DocuSign employees do not have access to this information, nor can they access your signature file or other data, but it is stored in our system.\\n\\nIf you send us personal correspondence, such as emails or letters, we may collect such information into a file specific to you. \\n\\nIf you register for DocuSign on another web site or use a web site providing a service for DocuSign or a web site that helps facilitate your activity on DocuSign, that web site may provide personal information about you and your transactions back to DocuSign. \\n\\n2\\\\. Our Use of Your Information.\\n\\nWe use your personal information to facilitate the services you request. We use your personal information in the file we maintain about you, and other information we obtain from your current and past activities on the Site to: resolve disputes; troubleshoot problems; help promote safe exchange of documents for signature and delivery; collect fees owed; authenticate users, inform you about online and offline offers, products, services, and updates; customize your experience; detect and protect us against error, fraud and other criminal activity; enforce our User Agreement; and as otherwise described to you at the time of collection. At times, we may look across multiple users to identify problems or resolve disputes, and in particular we may examine your personal information to identify users using multiple User IDs or aliases. We may compare and review your personal information for errors, omissions and for accuracy. \\n\\nIf you choose to use our service and pay with credit card or corporate invoice, we use your address and billing information to bill you and provide associated support. \\n\\n3\\\\. Our Disclosure of Your Information.\\n\\nAs a matter of policy, we do not sell or rent any of your personal information to third parties for their marketing purposes without your explicit consent. However, the following describes some of the ways that your personal information may be disclosed in the normal scope of business to provide our services. \\n\\nWe may use third parties that we refer to as internal service providers to facilitate or outsource one or more aspects of the business, product and service operations that we provide to you (e.g., search technology, authentication systems, bill collection, and fraud detection) and therefore we may provide some of your personal information directly to these internal service providers. These internal service providers\\' are subject to confidentiality agreements with us and other legal restrictions that prohibit their use of the information we provide them for any other purpose except to facilitate the specific outsourced DocuSign related operation, unless you have explicitly agreed or given your prior permission to them for additional uses.\\xa0\\xa0\\n\\nDocuSign cooperates with law enforcement inquiries, as well as other third parties to enforce laws, such as: intellectual property rights, fraud and other rights, to help protect you and the DocuSign community from bad actors. Therefore, in response to a verified request by law enforcement or other government officials relating to a criminal investigation or alleged illegal activity, we can (and you authorize us to) disclose your name, city, state, telephone number, email address, UserID history, fraud complaints, usage history without a subpoena. Without limiting the above, in an effort to respect your privacy and our ability to keep the community free from bad actors, we will not otherwise disclose your personal information to law enforcement or other government officials without a subpoena, court order or substantially similar legal procedure, except when we believe in good faith that the disclosure of information is necessary to: prevent imminent physical harm or financial loss; or report suspected illegal activity. Further, we can (and you authorize us to) disclose your name, street address, city, state, zip code, country, phone number, email, and company name to DocuSign Internal Service Providers under confidentiality agreement, as we in our sole discretion believe necessary or appropriate in connection with an investigation of fraud, intellectual property infringement, piracy, or other unlawful activity. \\n\\nDue to the existing regulatory environment, we cannot ensure that all of your private communications and other personal information will never be disclosed in ways not otherwise described in this Privacy Policy. Therefore, although we use industry standard practices to protect your privacy, we do not promise, and you should not expect, that your personal information or private communications will always remain private, but you should know that we will take all reasonable steps to provide you a highly secure environment. \\n\\n4\\\\. Your Use of Other Users\\' Information.\\n\\nIn order to facilitate interaction among all DocuSign Express™ members, our Product may allow you limited access other users\\' contact and authentication status information. \\n\\nBy entering into our User Agreement, you agree that, with respect to other users\\' information that you obtain through the Site or through an DocuSign-related communication or DocuSign-facilitated transaction, DocuSign hereby grants to you a license to use such information only for: (a) DocuSign-related communications that are not unsolicited commercial messages, (b) using services offered through DocuSign (e.g. document sending, signing, notarizing, etc), and (c) any other purpose that a user expressly agrees to after you tell them the purpose you would like to use it for. In all cases, you must give users an opportunity to withdraw consent to sign electronically. In addition, under no circumstances, except as defined in this Section, can you disclose personal information about another user to any third party without our consent and the consent of that user. You agree that other users may use your personal information to communicate with you in accordance with this Section.\\n\\nDocuSign and our users do not tolerate spam. Therefore, without limiting the foregoing, you are not licensed to send any message to another DocuSign user, (email or physical mail) without their express consent. To report DocuSign related spam to DocuSign, please contact us at info@docusign.com. \\n\\n5\\\\. Control of Your Password.\\n\\nYou are responsible for all actions taken with your User ID and password, including fees charged to your account, and all actions taken with your account. Therefore we do not recommend that you disclose your DocuSign password to any third parties. If you lose control of your password, you may lose substantial control over your personal information and may be subject to legally binding actions taken on your behalf. Therefore, if your password has been compromised for any reason, you should immediately change your password.\\n\\n6\\\\. Accessing, Reviewing and Changing Your Personal Information.\\n\\nWe offer you the ability to automatically review and change the information you submit to us by logging into the Site and entering in the new information yourself. Generally, we will not modify your personal information based on your request because it is difficult to authenticate your account manually. You can change your password, contact information, financial information, and user preferences by going the profile area. You must promptly update your personal information if it changes or is inaccurate. Changing your personal information will not impact any completed transactions.\\n\\nUpon your request, we will deactivate your account, contact information, billing information, shipping information, and financial information from our active databases. To make this request, email  sales@DocuSign.com. Such information will be deactivated as soon as reasonably possible based on your account activity and in accordance with our deactivation policy and applicable law.\\xa0\\n\\nWe will retain in our files some personal information, and past document transactions to prevent fraud, collect any fees owed, resolve disputes, troubleshoot problems, assist with any investigations, enforce our User Agreement and comply with legal requirements as is permitted by law. Therefore, you should not expect that all of your personal information will be completely removed from our databases in response to your requests. However, such personal information will be deactivated from member viewing and will only be available to select DocuSign personal. \\n\\n7\\\\. Other Information Collectors.\\n\\nExcept as otherwise expressly included in this Privacy Policy, this document only addresses the use and disclosure of information we collect from you. To the extent that you disclose your information to other parties using our system, different rules may apply to their use or disclosure of the information you disclose to them. Since DocuSign does not control the privacy policies of third parties, or other individuals actions, you are subject to the privacy policies of that third party or individuals. We encourage you to be sure the recipients are authenticated to your satisfaction before you send them any documents.\\n\\n8\\\\. Security.\\n\\nYour information is stored on DocuSign Inc.\\'s servers located in the United States. We use procedural and technical safeguards to protect your personal information against loss or theft as well as unauthorized access and disclosure to protect your privacy, including encryption, \"firewalls\" and Secure Socket Layers. We treat data as an asset that must be protected against loss and unauthorized access. We employ many different security techniques to protect such data from unauthorized access by users inside and outside the company. However, \"perfect security\" does not exist on the Internet. \\n\\n9\\\\. Notice.\\n\\nWe may amend this Privacy Policy at any time by posting the amend terms on the Site. All amended terms shall automatically be effective 30 days after they are initially posted on the Site. In addition, we will notify you in accordance with the law.   \\n\\xa0\\n',\n",
       " 13.762202034416042,\n",
       " 18.171459921235762,\n",
       " 'difficult',\n",
       " 14366,\n",
       " '837c2e1fdab142cebb3cc008880309ee94a6ecbf',\n",
       " '863527407568723719')"
      ]
     },
     "execution_count": 21,
     "metadata": {},
     "output_type": "execute_result"
    }
   ],
   "source": [
    "a"
   ]
  },
  {
   "cell_type": "code",
   "execution_count": 22,
   "id": "variable-programmer",
   "metadata": {},
   "outputs": [
    {
     "data": {
      "text/plain": [
       "548"
      ]
     },
     "execution_count": 22,
     "metadata": {},
     "output_type": "execute_result"
    }
   ],
   "source": [
    "lenlist.index(512)"
   ]
  },
  {
   "cell_type": "code",
   "execution_count": 30,
   "id": "tamil-camera",
   "metadata": {},
   "outputs": [],
   "source": [
    "seg = 0\n",
    "i=0\n",
    "rowfound = None\n",
    "while seg < 548:\n",
    "    row = rows[i]\n",
    "    text = row[1]\n",
    "    split_for_nn = text.split('\\n\\n')\n",
    "    split_len = len(split_for_nn)\n",
    "    seg += split_len\n",
    "    rowfound = row\n",
    "    \n",
    "    i+=1"
   ]
  },
  {
   "cell_type": "code",
   "execution_count": 32,
   "id": "wired-activation",
   "metadata": {},
   "outputs": [],
   "source": [
    "splitexrow = rowfound[1].split('\\n\\n')"
   ]
  },
  {
   "cell_type": "code",
   "execution_count": 35,
   "id": "analyzed-bottle",
   "metadata": {},
   "outputs": [
    {
     "data": {
      "text/plain": [
       "'Last updated on October\\xa04th, 2015.\\n\\nThis Privacy Policy describes DocuSign, Inc.’s information collection and use practices. This Privacy Policy refers to DocuSign Inc. as “we,” “us,” or “our,” and refers to the reader as “you” or “user.” \\xa0If you access or use our websites, including docusign.com and docusign.net, our mobile applications, our Web client or Professional client, and/or any of our other sites, products, or services that link to this Privacy Policy (“Services”), you consent to our collection and use of your information as described in this Privacy Policy, including that your information may be transferred to and stored in the United States. \\xa0IF YOU DO NOT AGREE TO THIS PRIVACY POLICY, PLEASE DO NOT USE THE SERVICES. \\xa0\\xa0\\n\\nDocuSign, Inc. has been awarded TRUSTe’s Privacy Seal signifying that this Privacy Policy and our practices have been reviewed by TRUSTe for compliance with TRUSTe’s program requirements including transparency, accountability, and choice regarding the collection and use of your personal information. TRUSTe’s mission, as an independent third party, is to accelerate online trust among consumers and organizations globally through its leading privacy trustmark and innovative trust solutions.\\n\\nThis Privacy Policy explains:\\n\\n  1. The Information We Collect\\n  2. How We Use the Information We Collect and How We Collect it\\n  3. How We Share Information\\n  4. Online Analytics and Tailored Online Advertising\\n  5. Data Retention, Accessing Your Information, and Closing Your Account\\n  6. Email and Direct Marketing Choices\\n  7. How we Protect Your Information\\n  8. Linked Sites and Services\\n  9. Users From Outside the United States\\n  10. Children’s Privacy\\n  11. Your California Privacy Rights\\n  12. Changes to this Policy\\n  13. How to Contact Us\\n\\n\\n\\n### 1\\\\. The Information We Collect and How We Collect it.\\n\\nTo provide the Services, we need to know certain information about you and other users with whom you interact. \\xa0The types of information we collect depends on how you use the Services.\\xa0 Several categories of information are collected from you, as described below.\\n\\nA. Information Provided by You\\n\\nInformation that you may provide to us includes, but is not limited to:\\n\\n  * name\\n  * email addresses (including yours and any authorized user’s)\\n  * mailing address\\n  * phone number\\n  * billing and financial account information\\n\\n\\n\\nFor example, we may collect information from you when you:\\n\\n  * Log in or create an account\\n  * Start or sign a contract\\n  * Create or edit your user profile\\n  * Complete an online form\\n  * Enter a sweepstakes or contest or register for a promotion\\n  * Request certain features (e.g., newsletters, demos, and other products)\\n  * Contact customer support\\n  * Provide a user testimonial\\n\\n\\n\\nYou may also choose to provide the following:\\n\\n  * Social Media Account Information. When you use a social media account to sign in to the Services, you provide us with the user ID associated with any social media account (e.g., Facebook) that you use. If you sign in with or otherwise connect your social media account to the Services, you authorize us to collect, store, and use in accordance with this Privacy Policy any and all information available to us through the social media interface, including without limitation any information that you have made public in connection with your social media account, information that the social media service shares with us, or information that is disclosed as being shared during the sign-in process.\\xa0 Please see your social media provider’s privacy policy and help center for more information about how they share information when you choose to connect your account.\\n  * User-Generated Content. If you choose to comment on our blogs or in our community forums or otherwise volunteer information, you provide us with that information and it may be available to other users and even the public.\\xa0This means that it can be read, collected, and used by others without our knowledge, including to send unsolicited communications.\\n  * Profile Information. Our Services may allow users to search for other users and view those users’ public profile information (also called your “ID card”).\\xa0To change the information appearing in your public profile or to make this information private, please visit your account settings.\\n  * Information About Others. You may provide us with information about others when you. \\n    * Create and Send Envelopes. When users create envelopes through our Services and arrange for them to be sent to recipients, they provide information like name and email address of the recipients. \\xa0When users want additional assurances about the identity of the individual signing their contracts, they may require us to collect some additional information that we use to authenticate recipients before they are able to sign a contract.\\n    * Refer Friends. When users use our referral service to tell a friend about our Services, they will provide a friend’s name and email address.\\xa0 We will send a one-time email to the address provided, inviting the friend to try the Services.\\xa0 DocuSign stores this information for the purposes of sending this email and tracking the success of our referral program.\\xa0The individuals who receive these messages can follow the instructions for unsubscribing in the message or contact us at the email address in Section 13 below to request that we remove this information from our database.\\n\\n\\n\\nThe decision to provide us with information is optional; however, if you elect not to provide certain information, you may not be able to access certain content or features available through the Services.\\xa0\\n\\nB. Information That Is Collected Automatically\\n\\nWe may automatically collect certain information about your use of the Services, including when you use our websites without logging in.\\n\\nDevice and Usage information. We may collect information about:\\xa0 (i) the computers or devices (including mobile devices) you use to access the Services; and (ii) how you use the Services. \\xa0Examples of the information that we may automatically collect and analyze include, but are not limited to:\\n\\n  * IP Address, a.k.a. internet protocol address (your point of access to the Internet). IP address can reveal a web user’s general location (city/state/country).\\n  * Location Information, including the geo-location of your device. If you use our mobile apps, you will be asked to give the apps access to your mobile device’s geolocation data.\\xa0 If you grant such permission, we may collect information about your precise geolocation information (i.e., your real-time geographic location), and may use that information to customize the Services with location-based information and features.\\xa0 If you access the Services through a mobile device and you do not want your device to provide us with location-tracking information, you can withhold permission to access that data or you should be able to turn off the GPS or other location-tracking functions on your device by visiting settings or privacy settings or settings for location services;\\n  * Unique Device Identifiers, including, but not limited to, MAC Address, IDFA, IDFV, IMEI, and Advertising IDs;\\n  * Device Attributes, including browser types, browser language, and operating system;\\n  * Usage Data, including information related to the ways in which you interact with the Services, such as: web log data, referring and exit pages and URLs, platform type, the number of clicks, domain names, landing pages, pages and content viewed and the order of those pages, the amount of time spent on particular pages, the date and time you used the Services, the frequency of your use of the Services, error logs, and other similar information; and\\n  * Transactional Data relating to the contracts you upload or sign on the Services, such as: envelope metadata, envelope subject, authentication method used, and envelope history.\\n\\n\\n\\nAs described further below, we may use third-party analytics providers and technologies, including cookies and similar tools, to assist in collecting this information.\\n\\nCookies and Related Technologies. We use “cookies” and other “tracking” technologies for a variety of purposes.\\xa0 The technologies we may use include, but are not limited to: (i) browser cookies; (ii) web beacons; (iii) tracking pixels; and (iv) local shared objects (“flash cookies”).\\xa0 Our uses of cookies and related technologies include, but are not limited to: storing your username and password; analyzing usage of the Services by collecting the device/usage information discussed above; customizing the Services; and personalizing and delivering the advertising displayed by or within the Services or our emails, as well as advertisements that may be displayed on other sites or mobile applications. \\xa0As we adopt additional technologies, we may also gather additional information through other methods.\\n\\nMost browsers automatically accept cookies, but you can modify your browser setting to decline cookies by visiting the Help portion of your browser’s toolbar. If you choose to decline cookies, please note that you may not be able to sign in, customize, or use some of the interactive features of the Services. Flash cookies operate differently than browser cookies, and cookie management tools available in a web browser will not remove flash cookies.\\xa0 To learn more about how to manage flash cookies, you can visit the Adobe website and make changes at the Global Privacy Settings Panel. For more information about our use of cookies and related technologies, please see our Cookies Policy.\\n\\nC. Information from Other Sources\\n\\nWe may obtain information about you from other sources such as marketers, partners, affiliates under common ownership or control with DocuSign, researchers, and others.\\xa0 For example, if you register for DocuSign on another website or use a website that facilitates your activity on DocuSign, that website may provide information about you and your transactions to us.\\n\\n### 2\\\\. How We Use the Information We Collect.\\n\\nIn general we use the information we collect to provide and administer the Services. More specifically, we might use the information we collect to:\\n\\n  * Provide you with the services and products you have requested;\\n  * Send you records regarding our relationship or your transactions;\\n  * Notify you about new features, products, and special events;\\n  * Provide you with marketing communications about our products and services as well as third party products and services we think may be of interest to you; and send you newsletters;\\n  * Administer sweepstakes and contests;\\n  * Personalize and deliver content and advertising on the Services;\\n  * Test changes and develop new features, products and services;\\n  * Generate and review data and reports describing our user base and usage patterns;\\n  * Analyze the accuracy, effectiveness, usability, or popularity of the Services and perform research;\\n  * Verify your identity, deter and prevent fraud, and enforce the legal terms that govern your use of the Services; and\\n  * Resolve disputes and troubleshoot the Services.\\n\\n\\n\\nWe may combine information that we collect or receive through the Services with information we obtain from other sources and use it as described in this Privacy Policy.\\n\\nAggregated or De-Identified Data \\\\- We may aggregate and/or de-identify the information we collect to limit or prevent identification of any particular user or device.\\xa0 Our use and disclosure of aggregated and/or de-identified information is not subject to any restrictions under this Privacy Policy, and we may disclose it to others without limitation for any purpose.\\n\\n### 3\\\\. How We Share Information.\\n\\nWe do not rent, sell, or share your information with third parties except as described in this Privacy Policy. We may share your information with the following types of recipients and for the following purposes:\\n\\n  * Other Users Designated by You. If you invite other users to access, use, or edit content you create through the Services (for example, if you invite others to view or sign a document), we will make such content available to the individuals you invited.\\n  * Service Providers. We may share your information with third parties that we refer to as service providers to assist us in providing services to you.\\xa0 For example, we might use these third parties to provide search technology, advertising services, authentication systems, bill collection and fulfillment, fraud detection, customer support, and recruiting.\\xa0 Our contracts with service providers contain terms governing their use of your data.\\n  * Social Media Services. If you connect to a third party service (such as Facebook or Twitter) through an icon or link on the Services or otherwise link your account with a third party service, we may share the contents of your post and associated information (such as your user name, the fact that your connection originated from the Services, and other relevant usage and diagnostic information) with such third party.\\xa0 Once such information is shared, the use of your information will be subject to that service’s privacy policy and this Privacy Policy will not apply.\\n  * Affiliates. We may share your information with other companies under common ownership or control with DocuSign.\\n  * Safety, Security, and Compliance with Law. We may share your information when we believe in good faith that such sharing is reasonably necessary to investigate, prevent, or take action regarding possible illegal activities or to comply with legal process (e.g. a subpoena).\\xa0 We may also share your information in situations involving potential threats to the physical safety of any person, violations of this Privacy Policy or our user agreements or terms; or to respond to the claims of violation of the rights of third parties and/or to protect the rights, property and safety of DocuSign, our employees, users, or the public. This may involve the sharing of your information with law enforcement, government agencies, courts, and/or other organizations.\\xa0 For more information about our law enforcement policies, please click here.\\n  * Business Transactions. As we develop our business, we may sell, buy, merge or partner with other companies or businesses, or sell some or all of our assets. In such transactions, user information may be among the transferred assets.\\xa0 If DocuSign is involved in a merger, acquisition, or sale of all or a portion of its assets, you will be notified via email and/or a prominent notice on our websites of any change in ownership or uses of your information, as well as any choices you may have regarding your information.\\n  * Consent. We may share your information in other ways and for new purposes if you have asked us to do so or have consented to such sharing. For example, we post customer testimonials on our Services that may identify you if we have received your consent.\\xa0\\n\\n\\n\\n### 4\\\\. Online Analytics and Tailored Online Advertising\\n\\nOnline Analytics.\\n\\nWe may use third-party web analytics services on our Services, such as those of Google Analytics and Mixpanel.\\xa0 These providers use cookie-related technologies (described in the “Information that is Collected Automatically” section above) to help us analyze how users use the Services, including by noting the third-party website from which you arrive.\\xa0 The information collected will be disclosed to or collected directly by these service providers, who use the information to evaluate your use of the Services.\\xa0 To prevent Google Analytics from using your information for analytics, you may install the Google Analytics Opt-Out Browser\\xa0 by clicking here, and you may also use Mixpanel’s opt out by clicking here.\\n\\nTailored Online Advertising.\\n\\nThird parties whose products or services are accessible or marketed via the Services may also place cookies or other tracking technologies on your computer or other device to collect information about your use of the Services, in order to (i) inform, optimize, and serve advertising content based on past visits to our Services and other sites and (ii) report how our advertising content impressions, other uses of advertising services, and interactions with these advertising impressions and services are related to visits to our Services.\\xa0We also allow other third parties (e.g., ad networks and ad servers such as Google Analytics, AdRoll, and AppNexus, and others) to serve tailored advertising to you on the Services, and to access their own cookies or other tracking technologies on your computer or other device you use to access the Services. We neither have access to, nor does this Privacy Policy govern, the use of cookies or other tracking technologies that may be placed by such third parties.\\n\\nIf you are interested in more information about tailored browser advertising and how you can generally control cookies from being put on your computer or mobile browser to deliver tailored advertising (i.e., not just for the Services), you may visit the following pages/sites to learn more and opt-out of receiving tailored advertising from companies that participate in those programs.\\n\\n  * Network Advertising Initiative’s Consumer Opt-Out Link\\n  * Digital Advertising Alliance’s Consumer Opt-Out Link\\n  * TRUSTe’s Advertising Choices\\n\\n\\n\\nTo opt out of Google Analytics for Display Advertising or customize Google Display Network ads, you can visit the Google Ads Settings page.\\n\\nPlease note that to the extent advertising technology is integrated into the Services, you may still receive advertising content even if you opt-out of tailored advertising.\\xa0 In that case, the advertising content will just not be tailored to your interests.\\xa0 Also, we do not control any of the above opt-out links and are not responsible for any choices you make using these mechanisms or the continued availability or accuracy of these mechanisms.\\n\\nWhen accessing the Services from a mobile application you may also receive tailored in-application advertisements. Each operating system: iOS, Android and Windows Phone provides its own instructions on how to prevent the delivery of tailored in-application advertisements. You may review the support materials and/or the privacy settings for the respective operating systems in order to opt-out of tailored in-application advertisements. \\xa0For any other devices and/or operating systems, please visit the privacy settings for the applicable device or operating system or contact the applicable platform operator.\\n\\nCalifornia Do Not Track Disclosure. We are committed to providing you with meaningful choices about the information collected on our Services for third party purposes, and that is why we provide above the NAI “Consumer Opt-out” link, DAA opt-out link, TRUSTe opt-out link, and Google opt-out link.\\xa0 However, we do not recognize or respond to browser-initiated Do Not Track signals, as the Internet industry is currently still working on Do Not Track standards, implementations and solutions.\\n\\n### 5\\\\. Data Retention, Accessing Your Information, and Closing Your Account.\\n\\nData Retention. We will retain your information for as long as your account is active or as necessary for legitimate business purposes.\\n\\nReviewing and Updating Your Account. We offer you the ability to change certain information about you (such as your profile information, password, financial information, and user preferences) by logging into the Services and visiting your Profile. \\xa0You can also make a request to modify information that cannot be amended or deleted through the Services by contacting us using the contact information below in Section 13.\\xa0 We will take reasonable steps to permit you to modify information that is inaccurate or incomplete.\\n\\nClosing Your Account. If you wish to close your account, please visit your account settings.\\xa0\\xa0 Upon your request, we will close your account, and delete your contact information, billing information, and shipping information from our active databases. \\xa0You may also request to close your account by emailing us at the contact information provided below in Section 13. Your account will be closed as soon as reasonably possible based on your account activity and in accordance with applicable law.\\xa0 However, please note that even after you close your account, we may retain and use certain of your information (such as information regarding transactions made through our Services) to prevent fraud, collect any fees owed, resolve disputes, troubleshoot problems, assist with any investigations, enforce our user agreements and terms, and comply with legal requirements.\\xa0 If you have shared content or information through our Services with other users, such content or information may still be available to those other users if they have not also deleted it or closed their accounts.\\n\\n### 6\\\\. Email and Direct Marketing Choices.\\n\\nWe provide opt-out information in all commercial email messages we send via an “unsubscribe” link.\\xa0 We reserve the right to send one message confirming your opt-out from a messaging program.\\xa0 Please note that it may take us some time to process your requests consistent with applicable law. \\xa0You do not have the ability to opt-out of transactional or relationship messages (e.g., signing notifications or account notifications) that we send if you are a registered user of our Services or if you have engaged in transactions with us.\\xa0 To opt out of other direct marketing from us, please contact us using the email below in Section 13.\\n\\n### 7\\\\. How We Protect Your Information\\n\\nWe employ physical, electronic, and managerial procedures to safeguard and help prevent unauthorized access to your information. We choose these safeguards based on the sensitivity of the information that we collect, process and store and the current state of technology.\\xa0 Although we take measures to safeguard against unauthorized disclosures of information, the Internet and the Services are not 100% secure so we cannot assure you that information we collect or store will be protected from all unauthorized access and thereby used in a manner that is inconsistent with this Privacy Policy.\\xa0\\n\\n### 8\\\\. Linked Sites and Services.\\n\\nOur Services may contain links to third-party websites or apps. Your use of a third party site or app may result in the collection, processing, or sharing of information about you, depending on the site or app. We are not responsible for the content or privacy practices of other websites or services which may be linked on our services. We do not endorse or make any representations about third-party websites or services. The information you choose to provide to or that is collected by these third parties is not covered by our Privacy Policy. We strongly encourage you to read such third parties’ privacy policies.\\n\\n### 9\\\\. Users From Outside the United States.\\n\\nDocuSign complies with the US-EU Safe Harbor Framework and US-Swiss Safe Harbor Framework as set forth by the US Department of Commerce regarding the collection, use, and retention of personal data from European Union member countries and Switzerland. DocuSign has certified that it adheres to the Safe Harbor Privacy Principles of notice, choice, onward transfer, security, data integrity, access, and enforcement. To learn more about the Safe Harbor program, and to view our certification page, please visit http://www.export.gov/safeharbor/.\\n\\nIn compliance with the US-EU and US-Swiss Safe Harbor Principles, DocuSign commits to resolve complaints about your privacy and our collection or use of your personal data. For all inquiries or complaints regarding this Privacy Policy, including European Union or Swiss citizens, you should first contact us using the information provided below. We have further committed to refer unresolved privacy complaints under the US-EU and US-Swiss Safe Harbor Principles to an independent dispute resolution mechanism offered by TRUSTe. If you do not receive timely acknowledgment by us of your complaint, or if your complaint is not satisfactorily addressed by us, please visit the TRUSTe website for information on filing a dispute resolution claim: http://www.truste.com/consumer-resources/dispute-resolution/.\\n\\nBy using the Services, you consent to your information being transferred to our facilities, in the United States or elsewhere, and to the facilities of those third parties with whom we share it as described in this Privacy Policy, except in the case of data transfers from the European Economic Area or Switzerland, which are covered under our EU-US and Swiss-US Safe Harbor certifications detailed above.\\n\\n### 10\\\\. Children’s Privacy.\\n\\nThe Services are not designed for and are not marketed to minors. \\xa0We do not knowingly collect or solicit personal information from minors, and we do not knowingly allow such persons to use the Services. If you are a minor, please do not attempt to use the Services or send any information about yourself to us. \\xa0In the event that we learn that we have collected personal information from a minor without verified parental consent, we will delete that information as quickly as possible. \\xa0If you believe that we might have any information from or about a minor, please contact us using the contact information below.\\n\\n### 11\\\\. Your California Privacy Rights.\\n\\nCalifornia law permits users who are California residents to request and obtain from us once a year, free of charge, a list of the third parties to whom we have disclosed their personal information (if any) for their direct marketing purposes in the prior calendar year, as well as the type of personal information disclosed to those parties.\\xa0 As discussed above, we do not currently share personal information with third parties for their own marketing purposes.\\n\\n### 12\\\\. Changes to this Privacy Policy.\\n\\nWe reserve the right to amend this Privacy Policy from time to time to reflect changes in the law, our data collection and use practices, the features of our Services, or advances in technology.\\xa0 Please check this page periodically for changes.\\xa0 Our use of the information we collect is subject to the Privacy Policy in effect at the time such information is used.\\xa0 If we make any material changes to this Privacy Policy, we will post the changes here and may notify you by email or other means before the change takes effect.\\xa0 Please review changes carefully. Your continued use of our Services following the posting of changes to this Privacy Policy will mean you consent to and accept those changes.\\n\\n### 13\\\\. How to Contact Us.\\n\\nIf you have any questions or suggestions regarding our Privacy Policy or practices, you may contact us at Privacy@docusign.com or via postal mail at 1301 Second Avenue, Suite 2000, Seattle, WA 98101.\\n'"
      ]
     },
     "execution_count": 35,
     "metadata": {},
     "output_type": "execute_result"
    }
   ],
   "source": [
    "rowfound[1]"
   ]
  },
  {
   "cell_type": "code",
   "execution_count": 31,
   "id": "documentary-pontiac",
   "metadata": {},
   "outputs": [
    {
     "data": {
      "text/plain": [
       "584"
      ]
     },
     "execution_count": 31,
     "metadata": {},
     "output_type": "execute_result"
    }
   ],
   "source": [
    "seg"
   ]
  },
  {
   "cell_type": "code",
   "execution_count": 34,
   "id": "superb-central",
   "metadata": {},
   "outputs": [
    {
     "name": "stdout",
     "output_type": "stream",
     "text": [
      "5\n",
      "114\n",
      "67\n",
      "4\n",
      "96\n",
      "1\n",
      "11\n",
      "43\n",
      "5\n",
      "13\n",
      "29\n",
      "1\n",
      "10\n",
      "64\n",
      "1\n",
      "8\n",
      "433\n",
      "1\n",
      "33\n",
      "6\n",
      "21\n",
      "47\n",
      "284\n",
      "1\n",
      "23\n",
      "119\n",
      "113\n",
      "5\n",
      "56\n",
      "9\n",
      "24\n",
      "155\n",
      "1\n",
      "28\n",
      "56\n",
      "6\n",
      "35\n",
      "499\n",
      "1\n",
      "8\n",
      "2\n",
      "109\n",
      "3\n",
      "162\n",
      "59\n",
      "22\n",
      "1\n",
      "23\n",
      "72\n",
      "85\n",
      "76\n",
      "11\n",
      "22\n",
      "81\n",
      "168\n",
      "7\n",
      "106\n",
      "7\n",
      "91\n",
      "6\n",
      "105\n",
      "8\n",
      "78\n",
      "114\n",
      "66\n",
      "4\n",
      "106\n",
      "6\n",
      "76\n",
      "7\n",
      "121\n",
      "6\n",
      "32\n"
     ]
    }
   ],
   "source": [
    "for part in splitexrow:\n",
    "    print(len(part.split(' ')))"
   ]
  },
  {
   "cell_type": "code",
   "execution_count": null,
   "id": "becoming-failure",
   "metadata": {},
   "outputs": [],
   "source": []
  }
 ],
 "metadata": {
  "kernelspec": {
   "display_name": "Python 3",
   "language": "python",
   "name": "python3"
  },
  "language_info": {
   "codemirror_mode": {
    "name": "ipython",
    "version": 3
   },
   "file_extension": ".py",
   "mimetype": "text/x-python",
   "name": "python",
   "nbconvert_exporter": "python",
   "pygments_lexer": "ipython3",
   "version": "3.6.12"
  }
 },
 "nbformat": 4,
 "nbformat_minor": 5
}
