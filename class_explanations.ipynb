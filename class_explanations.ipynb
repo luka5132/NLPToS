{
 "cells": [
  {
   "cell_type": "markdown",
   "id": "assured-layer",
   "metadata": {
    "papermill": {
     "duration": 0.018574,
     "end_time": "2021-05-21T16:18:54.066947",
     "exception": false,
     "start_time": "2021-05-21T16:18:54.048373",
     "status": "completed"
    },
    "tags": []
   },
   "source": [
    "# Explanations of .py files for project\n",
    "\n",
    "This notebook is part of my capstone project on hierarchichal classification:\n",
    "https://github.com/luka5132/NLPToS\n",
    "In this notebook you can find some additional information on what the classes in the respective .py files do.\n",
    "The files discussed are:\n",
    "1. pytorch_classification.py\n",
    "2. data_processing.py\n",
    "3. hierarchical_classification.py"
   ]
  },
  {
   "cell_type": "code",
   "execution_count": 1,
   "id": "photographic-player",
   "metadata": {
    "execution": {
     "iopub.execute_input": "2021-05-21T16:18:54.113514Z",
     "iopub.status.busy": "2021-05-21T16:18:54.112847Z",
     "iopub.status.idle": "2021-05-21T16:18:54.136231Z",
     "shell.execute_reply": "2021-05-21T16:18:54.135535Z"
    },
    "papermill": {
     "duration": 0.051625,
     "end_time": "2021-05-21T16:18:54.136411",
     "exception": false,
     "start_time": "2021-05-21T16:18:54.084786",
     "status": "completed"
    },
    "tags": []
   },
   "outputs": [
    {
     "data": {
      "text/plain": [
       "'../working/hierarchical_data.py'"
      ]
     },
     "execution_count": 1,
     "metadata": {},
     "output_type": "execute_result"
    }
   ],
   "source": [
    "import pandas as pd\n",
    "import numpy as np\n",
    "\n",
    "# import module we'll need to import our custom module (needed for kaggle)\n",
    "from shutil import copyfile\n",
    "\n",
    "# copy our file into the working directory (make sure it has .py suffix)\n",
    "copyfile(src = \"../input/privbert-data/data_processing.py\", dst = \"../working/data_processing.py\")\n",
    "copyfile(src = \"../input/privbert-data/pytorch_classifier.py\", dst = \"../working/pytorch_classifier.py\")\n",
    "copyfile(src = \"../input/privbert-data/hierarchical_data.py\", dst = \"../working/hierarchical_data.py\")"
   ]
  },
  {
   "cell_type": "markdown",
   "id": "thirty-upset",
   "metadata": {
    "papermill": {
     "duration": 0.017978,
     "end_time": "2021-05-21T16:18:54.173455",
     "exception": false,
     "start_time": "2021-05-21T16:18:54.155477",
     "status": "completed"
    },
    "tags": []
   },
   "source": [
    "# Pytorch_classification\n",
    "\n",
    "This file was initially planned to contain all code related to training a BERT model. However with memory constraints on kaggle I was forced to take out large bits, mainly everything that was used a GPU 'device', i.e. all of training and testing. Remains of the class are still used as *shortcuts* for loading data."
   ]
  },
  {
   "cell_type": "code",
   "execution_count": 2,
   "id": "developing-spanking",
   "metadata": {
    "execution": {
     "iopub.execute_input": "2021-05-21T16:18:54.217183Z",
     "iopub.status.busy": "2021-05-21T16:18:54.216474Z",
     "iopub.status.idle": "2021-05-21T16:19:03.897429Z",
     "shell.execute_reply": "2021-05-21T16:19:03.897895Z"
    },
    "papermill": {
     "duration": 9.706264,
     "end_time": "2021-05-21T16:19:03.898073",
     "exception": false,
     "start_time": "2021-05-21T16:18:54.191809",
     "status": "completed"
    },
    "tags": []
   },
   "outputs": [
    {
     "name": "stdout",
     "output_type": "stream",
     "text": [
      "All variables: \n",
      "\n",
      "labels \n",
      "segments \n",
      "model_name \n",
      "max_length \n",
      "tokenizer \n",
      "encodings \n",
      "num_labels \n",
      "optimizer \n",
      "\n",
      "All functions: \n",
      "\n",
      "encode_texts \n",
      "init_data \n",
      "init_optimizer \n",
      "init_tokenizer \n",
      "input_labels \n",
      "input_texts \n",
      "load_test_data \n",
      "save_optimizer_state \n",
      "turn_to_tensor \n",
      "\n"
     ]
    },
    {
     "name": "stderr",
     "output_type": "stream",
     "text": [
      "/opt/conda/lib/python3.7/site-packages/torchaudio/backend/utils.py:54: UserWarning: \"sox\" backend is being deprecated. The default backend will be changed to \"sox_io\" backend in 0.8.0 and \"sox\" backend will be removed in 0.9.0. Please migrate to \"sox_io\" backend. Please refer to https://github.com/pytorch/audio/issues/903 for the detail.\n",
      "  '\"sox\" backend is being deprecated. '\n"
     ]
    }
   ],
   "source": [
    "from pytorch_classifier import BertClassification\n",
    "\n",
    "example_class = BertClassification()\n",
    "attributes = vars(example_class)\n",
    "attnames = [item[0] for item in attributes.items()]\n",
    "print(\"All variables: \\n\")\n",
    "print(''.join(\"%s \\n\" % attname for attname in attnames))\n",
    "all_dir = dir(example_class)\n",
    "all_functions = [method for method in all_dir if not method.startswith('__') and method not in attnames]\n",
    "print(\"All functions: \\n\")\n",
    "print(''.join(\"%s \\n\" % funcname for funcname in all_functions))"
   ]
  },
  {
   "cell_type": "markdown",
   "id": "white-nitrogen",
   "metadata": {
    "papermill": {
     "duration": 0.019135,
     "end_time": "2021-05-21T16:19:03.936305",
     "exception": false,
     "start_time": "2021-05-21T16:19:03.917170",
     "status": "completed"
    },
    "tags": []
   },
   "source": [
    "Above one can see the functions and variables for this class\n",
    "The *init_data, init_optimizer and init_tokenizer*  speak mostly for themselves as they initializes the respecitve data optimizer and tokenizer.\n",
    "The only function really worth explaining here is *encode_texts*"
   ]
  },
  {
   "cell_type": "code",
   "execution_count": 3,
   "id": "corrected-repeat",
   "metadata": {
    "execution": {
     "iopub.execute_input": "2021-05-21T16:19:03.979141Z",
     "iopub.status.busy": "2021-05-21T16:19:03.978469Z",
     "iopub.status.idle": "2021-05-21T16:19:03.981985Z",
     "shell.execute_reply": "2021-05-21T16:19:03.981497Z"
    },
    "papermill": {
     "duration": 0.026883,
     "end_time": "2021-05-21T16:19:03.982125",
     "exception": false,
     "start_time": "2021-05-21T16:19:03.955242",
     "status": "completed"
    },
    "tags": []
   },
   "outputs": [],
   "source": [
    "encode_texts = example_class.encode_texts\n",
    "# variables: max_length = 128, trunc = True, ptml = True,stratify = None, batchsize = 32, rs = 2021, valsize = 0.1, with_labels = True):\n",
    "# max_length is the token legnth of the data\n",
    "# trunc stands for trunctuation and is defaulted to true\n",
    "# ptml = pad to max length and means that we fill the the token array to the max length\n",
    "# batch size speaks for itself\n",
    "# with_labels decides whether the dataloader contains the labels for the segments"
   ]
  },
  {
   "cell_type": "markdown",
   "id": "missing-mambo",
   "metadata": {
    "papermill": {
     "duration": 0.018444,
     "end_time": "2021-05-21T16:19:04.019883",
     "exception": false,
     "start_time": "2021-05-21T16:19:04.001439",
     "status": "completed"
    },
    "tags": []
   },
   "source": [
    "# Data_processing\n",
    "\n",
    "This class is used for creating the one hot vectors for each segment. Because we are working with a lot of classification models this requires some work."
   ]
  },
  {
   "cell_type": "code",
   "execution_count": 4,
   "id": "legislative-roads",
   "metadata": {
    "execution": {
     "iopub.execute_input": "2021-05-21T16:19:04.064396Z",
     "iopub.status.busy": "2021-05-21T16:19:04.063724Z",
     "iopub.status.idle": "2021-05-21T16:19:04.885600Z",
     "shell.execute_reply": "2021-05-21T16:19:04.884970Z"
    },
    "papermill": {
     "duration": 0.8471,
     "end_time": "2021-05-21T16:19:04.885733",
     "exception": false,
     "start_time": "2021-05-21T16:19:04.038633",
     "status": "completed"
    },
    "tags": []
   },
   "outputs": [
    {
     "data": {
      "text/html": [
       "<div>\n",
       "<style scoped>\n",
       "    .dataframe tbody tr th:only-of-type {\n",
       "        vertical-align: middle;\n",
       "    }\n",
       "\n",
       "    .dataframe tbody tr th {\n",
       "        vertical-align: top;\n",
       "    }\n",
       "\n",
       "    .dataframe thead th {\n",
       "        text-align: right;\n",
       "    }\n",
       "</style>\n",
       "<table border=\"1\" class=\"dataframe\">\n",
       "  <thead>\n",
       "    <tr style=\"text-align: right;\">\n",
       "      <th></th>\n",
       "      <th>annotation_id</th>\n",
       "      <th>batch_id</th>\n",
       "      <th>annotator_id</th>\n",
       "      <th>policy_id</th>\n",
       "      <th>segment_id</th>\n",
       "      <th>category_name</th>\n",
       "      <th>attribute_value_pairs</th>\n",
       "      <th>date</th>\n",
       "      <th>policy_url</th>\n",
       "      <th>policy_uid</th>\n",
       "      <th>segment_text</th>\n",
       "    </tr>\n",
       "  </thead>\n",
       "  <tbody>\n",
       "    <tr>\n",
       "      <th>0</th>\n",
       "      <td>20137</td>\n",
       "      <td>test_category_labeling_highlight_fordham_aaaaa</td>\n",
       "      <td>121</td>\n",
       "      <td>3905</td>\n",
       "      <td>0</td>\n",
       "      <td>Other</td>\n",
       "      <td>{\"Other Type\": {\"selectedText\": \"Sci-News.com ...</td>\n",
       "      <td>Not specified</td>\n",
       "      <td>http://www.sci-news.com/privacy-policy.html</td>\n",
       "      <td>1017</td>\n",
       "      <td>Privacy Policy &lt;br&gt; &lt;br&gt; Sci-News.com is commi...</td>\n",
       "    </tr>\n",
       "    <tr>\n",
       "      <th>1</th>\n",
       "      <td>20324</td>\n",
       "      <td>test_category_labeling_highlight_fordham_aaaaa</td>\n",
       "      <td>121</td>\n",
       "      <td>3905</td>\n",
       "      <td>1</td>\n",
       "      <td>First Party Collection/Use</td>\n",
       "      <td>{\"Collection Mode\": {\"selectedText\": \"nformati...</td>\n",
       "      <td>Not specified</td>\n",
       "      <td>http://www.sci-news.com/privacy-policy.html</td>\n",
       "      <td>1017</td>\n",
       "      <td>Information that Sci-News.com May Collect Onli...</td>\n",
       "    </tr>\n",
       "    <tr>\n",
       "      <th>2</th>\n",
       "      <td>20325</td>\n",
       "      <td>test_category_labeling_highlight_fordham_aaaaa</td>\n",
       "      <td>121</td>\n",
       "      <td>3905</td>\n",
       "      <td>1</td>\n",
       "      <td>First Party Collection/Use</td>\n",
       "      <td>{\"Collection Mode\": {\"selectedText\": \"nformati...</td>\n",
       "      <td>Not specified</td>\n",
       "      <td>http://www.sci-news.com/privacy-policy.html</td>\n",
       "      <td>1017</td>\n",
       "      <td>Information that Sci-News.com May Collect Onli...</td>\n",
       "    </tr>\n",
       "    <tr>\n",
       "      <th>3</th>\n",
       "      <td>20326</td>\n",
       "      <td>test_category_labeling_highlight_fordham_aaaaa</td>\n",
       "      <td>121</td>\n",
       "      <td>3905</td>\n",
       "      <td>2</td>\n",
       "      <td>Data Retention</td>\n",
       "      <td>{\"Personal Information Type\": {\"selectedText\":...</td>\n",
       "      <td>Not specified</td>\n",
       "      <td>http://www.sci-news.com/privacy-policy.html</td>\n",
       "      <td>1017</td>\n",
       "      <td>- if you contact us, we may keep a record of t...</td>\n",
       "    </tr>\n",
       "    <tr>\n",
       "      <th>4</th>\n",
       "      <td>20327</td>\n",
       "      <td>test_category_labeling_highlight_fordham_aaaaa</td>\n",
       "      <td>121</td>\n",
       "      <td>3905</td>\n",
       "      <td>3</td>\n",
       "      <td>First Party Collection/Use</td>\n",
       "      <td>{\"Collection Mode\": {\"selectedText\": \"Not sele...</td>\n",
       "      <td>Not specified</td>\n",
       "      <td>http://www.sci-news.com/privacy-policy.html</td>\n",
       "      <td>1017</td>\n",
       "      <td>- details of your visits to our site including...</td>\n",
       "    </tr>\n",
       "  </tbody>\n",
       "</table>\n",
       "</div>"
      ],
      "text/plain": [
       "   annotation_id                                        batch_id  \\\n",
       "0          20137  test_category_labeling_highlight_fordham_aaaaa   \n",
       "1          20324  test_category_labeling_highlight_fordham_aaaaa   \n",
       "2          20325  test_category_labeling_highlight_fordham_aaaaa   \n",
       "3          20326  test_category_labeling_highlight_fordham_aaaaa   \n",
       "4          20327  test_category_labeling_highlight_fordham_aaaaa   \n",
       "\n",
       "   annotator_id  policy_id  segment_id               category_name  \\\n",
       "0           121       3905           0                       Other   \n",
       "1           121       3905           1  First Party Collection/Use   \n",
       "2           121       3905           1  First Party Collection/Use   \n",
       "3           121       3905           2              Data Retention   \n",
       "4           121       3905           3  First Party Collection/Use   \n",
       "\n",
       "                               attribute_value_pairs           date  \\\n",
       "0  {\"Other Type\": {\"selectedText\": \"Sci-News.com ...  Not specified   \n",
       "1  {\"Collection Mode\": {\"selectedText\": \"nformati...  Not specified   \n",
       "2  {\"Collection Mode\": {\"selectedText\": \"nformati...  Not specified   \n",
       "3  {\"Personal Information Type\": {\"selectedText\":...  Not specified   \n",
       "4  {\"Collection Mode\": {\"selectedText\": \"Not sele...  Not specified   \n",
       "\n",
       "                                    policy_url  policy_uid  \\\n",
       "0  http://www.sci-news.com/privacy-policy.html        1017   \n",
       "1  http://www.sci-news.com/privacy-policy.html        1017   \n",
       "2  http://www.sci-news.com/privacy-policy.html        1017   \n",
       "3  http://www.sci-news.com/privacy-policy.html        1017   \n",
       "4  http://www.sci-news.com/privacy-policy.html        1017   \n",
       "\n",
       "                                        segment_text  \n",
       "0  Privacy Policy <br> <br> Sci-News.com is commi...  \n",
       "1  Information that Sci-News.com May Collect Onli...  \n",
       "2  Information that Sci-News.com May Collect Onli...  \n",
       "3  - if you contact us, we may keep a record of t...  \n",
       "4  - details of your visits to our site including...  "
      ]
     },
     "execution_count": 4,
     "metadata": {},
     "output_type": "execute_result"
    }
   ],
   "source": [
    "# let's first have a look at the data:\n",
    "\n",
    "all_data = pd.read_csv('../input/privbert-data/op115_processed.csv')\n",
    "all_data.head()"
   ]
  },
  {
   "cell_type": "markdown",
   "id": "respected-prize",
   "metadata": {
    "papermill": {
     "duration": 0.019592,
     "end_time": "2021-05-21T16:19:04.925027",
     "exception": false,
     "start_time": "2021-05-21T16:19:04.905435",
     "status": "completed"
    },
    "tags": []
   },
   "source": [
    "The information in this dataset that is most relevant to us is the *'category_name', 'attribute_value_pairs and segment_text*.\n",
    "In the explanation of the class one will see how this data is used to create one hot vectors.\n",
    "To see how the data was stratified please consult the following notebook: 'Stratify_data.ipynb'"
   ]
  },
  {
   "cell_type": "code",
   "execution_count": 5,
   "id": "reported-outdoors",
   "metadata": {
    "execution": {
     "iopub.execute_input": "2021-05-21T16:19:04.975214Z",
     "iopub.status.busy": "2021-05-21T16:19:04.971482Z",
     "iopub.status.idle": "2021-05-21T16:19:04.980990Z",
     "shell.execute_reply": "2021-05-21T16:19:04.981486Z"
    },
    "papermill": {
     "duration": 0.036786,
     "end_time": "2021-05-21T16:19:04.981670",
     "exception": false,
     "start_time": "2021-05-21T16:19:04.944884",
     "status": "completed"
    },
    "tags": []
   },
   "outputs": [
    {
     "name": "stdout",
     "output_type": "stream",
     "text": [
      "All variables: \n",
      "\n",
      "df \n",
      "categories \n",
      "dicts \n",
      "tuple_list \n",
      "unique_tups \n",
      "unique_atts \n",
      "unique_cats \n",
      "cat_oh \n",
      "subcat_oh \n",
      "subsubcat_oh \n",
      "dictvalues \n",
      "segments \n",
      "segments_vals \n",
      "\n",
      "All functions: \n",
      "\n",
      "classtree \n",
      "getcats \n",
      "getdicts \n",
      "getsub \n",
      "go2 \n",
      "indexes \n",
      "len_onehots \n",
      "majority_vote \n",
      "new_onehots \n",
      "pol_seg \n",
      "processtuples \n",
      "return_oh_names \n",
      "return_ohs \n",
      "return_unique_texts \n",
      "returntexts \n",
      "set_oh_names \n",
      "set_onehots \n",
      "sort_df_polseg \n",
      "tuplist \n",
      "tuplist_per_segment \n",
      "\n"
     ]
    }
   ],
   "source": [
    "from data_processing import Op115OneHots\n",
    "\n",
    "example_class = Op115OneHots(all_data) # the class is initialized with a dataframe\n",
    "attributes = vars(example_class)\n",
    "attnames = [item[0] for item in attributes.items()]\n",
    "print(\"All variables: \\n\")\n",
    "print(''.join(\"%s \\n\" % attname for attname in attnames))\n",
    "all_dir = dir(example_class)\n",
    "all_functions = [method for method in all_dir if not method.startswith('__') and method not in attnames]\n",
    "print(\"All functions: \\n\")\n",
    "print(''.join(\"%s \\n\" % funcname for funcname in all_functions))"
   ]
  },
  {
   "cell_type": "markdown",
   "id": "statutory-reporter",
   "metadata": {
    "papermill": {
     "duration": 0.019768,
     "end_time": "2021-05-21T16:19:05.021567",
     "exception": false,
     "start_time": "2021-05-21T16:19:05.001799",
     "status": "completed"
    },
    "tags": []
   },
   "source": [
    "The functions used for this classed are summed up mostly in *'go2'* This function calls the following functions in order:\n",
    "- majority_vote() # if majority vote is true\n",
    "- sort_df_polseg()  \n",
    "- getcats()\n",
    "- getdicts()\n",
    "- processtuples()\n",
    "- getsub()\n",
    "- set_oh_names(class_tup) # if the function was loaded with a name of classes\n",
    "- tuplist_per_segment()"
   ]
  },
  {
   "cell_type": "code",
   "execution_count": 6,
   "id": "dimensional-swaziland",
   "metadata": {
    "execution": {
     "iopub.execute_input": "2021-05-21T16:19:05.131509Z",
     "iopub.status.busy": "2021-05-21T16:19:05.095023Z",
     "iopub.status.idle": "2021-05-21T16:19:05.513385Z",
     "shell.execute_reply": "2021-05-21T16:19:05.512742Z"
    },
    "papermill": {
     "duration": 0.471956,
     "end_time": "2021-05-21T16:19:05.513595",
     "exception": false,
     "start_time": "2021-05-21T16:19:05.041639",
     "status": "completed"
    },
    "tags": []
   },
   "outputs": [
    {
     "name": "stdout",
     "output_type": "stream",
     "text": [
      "Number of annotations before majority vote : 23194\n",
      "\n",
      "Number of annotations after majority vote : 20662\n"
     ]
    }
   ],
   "source": [
    "#Majority vote filters annonations that were only annotated once (out of 3 times)\n",
    "print('Number of annotations before majority vote :',len(example_class.df))\n",
    "print()\n",
    "example_class.majority_vote()\n",
    "print('Number of annotations after majority vote :',len(example_class.df))"
   ]
  },
  {
   "cell_type": "code",
   "execution_count": 7,
   "id": "bigger-cookbook",
   "metadata": {
    "execution": {
     "iopub.execute_input": "2021-05-21T16:19:05.561917Z",
     "iopub.status.busy": "2021-05-21T16:19:05.560948Z",
     "iopub.status.idle": "2021-05-21T16:19:05.567590Z",
     "shell.execute_reply": "2021-05-21T16:19:05.567029Z"
    },
    "papermill": {
     "duration": 0.033311,
     "end_time": "2021-05-21T16:19:05.567738",
     "exception": false,
     "start_time": "2021-05-21T16:19:05.534427",
     "status": "completed"
    },
    "tags": []
   },
   "outputs": [
    {
     "data": {
      "text/plain": [
       "Index(['annotation_id', 'batch_id', 'annotator_id', 'policy_id', 'segment_id',\n",
       "       'category_name', 'attribute_value_pairs', 'date', 'policy_url',\n",
       "       'policy_uid', 'segment_text'],\n",
       "      dtype='object')"
      ]
     },
     "execution_count": 7,
     "metadata": {},
     "output_type": "execute_result"
    }
   ],
   "source": [
    "example_class.df[:5].columns"
   ]
  },
  {
   "cell_type": "code",
   "execution_count": 8,
   "id": "ranging-lesson",
   "metadata": {
    "execution": {
     "iopub.execute_input": "2021-05-21T16:19:05.630431Z",
     "iopub.status.busy": "2021-05-21T16:19:05.629382Z",
     "iopub.status.idle": "2021-05-21T16:19:05.704482Z",
     "shell.execute_reply": "2021-05-21T16:19:05.703847Z"
    },
    "papermill": {
     "duration": 0.110998,
     "end_time": "2021-05-21T16:19:05.704627",
     "exception": false,
     "start_time": "2021-05-21T16:19:05.593629",
     "status": "completed"
    },
    "tags": []
   },
   "outputs": [
    {
     "name": "stdout",
     "output_type": "stream",
     "text": [
      "First 5 id's before sorting: \n",
      "[1017    0] \n",
      "[1017    1] \n",
      "[1017    1] \n",
      "[1017    2] \n",
      "[1017    3] \n",
      "\n",
      "First 5 id's after sorting: \n",
      "[20  0] \n",
      "[20  0] \n",
      "[20  0] \n",
      "[20  1] \n",
      "[20  1] \n",
      "\n"
     ]
    },
    {
     "name": "stderr",
     "output_type": "stream",
     "text": [
      "/kaggle/working/data_processing.py:66: SettingWithCopyWarning: \n",
      "A value is trying to be set on a copy of a slice from a DataFrame.\n",
      "Try using .loc[row_indexer,col_indexer] = value instead\n",
      "\n",
      "See the caveats in the documentation: https://pandas.pydata.org/pandas-docs/stable/user_guide/indexing.html#returning-a-view-versus-a-copy\n",
      "  self.df['str_polsegs'] = str_polseg\n",
      "/kaggle/working/data_processing.py:67: SettingWithCopyWarning: \n",
      "A value is trying to be set on a copy of a slice from a DataFrame\n",
      "\n",
      "See the caveats in the documentation: https://pandas.pydata.org/pandas-docs/stable/user_guide/indexing.html#returning-a-view-versus-a-copy\n",
      "  self.df.sort_values(by=['str_polsegs'], inplace=True)\n"
     ]
    }
   ],
   "source": [
    "# It then sorts the dataframe based on the policy-segment number\n",
    "f5 = example_class.df[:5]\n",
    "f5_id = f5[['policy_uid', 'segment_id']].values\n",
    "print(\"First 5 id's before sorting: \")\n",
    "print(''.join(\"%s \\n\" % f for f in f5_id))\n",
    "example_class.sort_df_polseg()\n",
    "f5 = example_class.df[:5]\n",
    "f5_id = f5[['policy_uid', 'segment_id']].values\n",
    "print(\"First 5 id's after sorting: \")\n",
    "print(''.join(\"%s \\n\" % f for f in f5_id))"
   ]
  },
  {
   "cell_type": "code",
   "execution_count": 9,
   "id": "palestinian-shakespeare",
   "metadata": {
    "execution": {
     "iopub.execute_input": "2021-05-21T16:19:05.758520Z",
     "iopub.status.busy": "2021-05-21T16:19:05.757707Z",
     "iopub.status.idle": "2021-05-21T16:19:05.761674Z",
     "shell.execute_reply": "2021-05-21T16:19:05.761052Z"
    },
    "papermill": {
     "duration": 0.03476,
     "end_time": "2021-05-21T16:19:05.761807",
     "exception": false,
     "start_time": "2021-05-21T16:19:05.727047",
     "status": "completed"
    },
    "tags": []
   },
   "outputs": [
    {
     "name": "stdout",
     "output_type": "stream",
     "text": [
      "self.categories before getcats() :  None\n",
      "after the fucntion we now have a list with the corresponding category values\n",
      "Other \n",
      "Other \n",
      "Other \n",
      "Other \n",
      "Other \n",
      "\n"
     ]
    }
   ],
   "source": [
    "# with get_cats() we see how many unique categories there are\n",
    "print(\"self.categories before getcats() : \",example_class.categories)\n",
    "example_class.getcats()\n",
    "cats = example_class.categories[:5]\n",
    "print(\"after the fucntion we now have a list with the corresponding category values\")\n",
    "print(''.join(\"%s \\n\" % cat for cat in cats))\n"
   ]
  },
  {
   "cell_type": "code",
   "execution_count": 10,
   "id": "parliamentary-secondary",
   "metadata": {
    "execution": {
     "iopub.execute_input": "2021-05-21T16:19:05.819356Z",
     "iopub.status.busy": "2021-05-21T16:19:05.813198Z",
     "iopub.status.idle": "2021-05-21T16:19:09.065638Z",
     "shell.execute_reply": "2021-05-21T16:19:09.066177Z"
    },
    "papermill": {
     "duration": 3.282045,
     "end_time": "2021-05-21T16:19:09.066351",
     "exception": false,
     "start_time": "2021-05-21T16:19:05.784306",
     "status": "completed"
    },
    "tags": []
   },
   "outputs": [
    {
     "name": "stdout",
     "output_type": "stream",
     "text": [
      "attribute value pairs: \n",
      "  {\"Other Type\": {\"endIndexInSegment\": 762, \"startIndexInSegment\": 100, \"selectedText\": \"At the Atlantic Monthly Group, Inc. (\\\"The Atlantic\\\"), we want you to enjoy and benefit from our websites and online services secure in the knowledge that we have implemented fair information practices designed to protect your privacy. Our privacy policy is applicable to The Atlantic, and The Atlantics affiliates and subsidiaries whose websites, mobile applications and other online services are directly linked (the Sites). The privacy policy describes the kinds of information we may gather during your visit to these Sites, how we use your information, when we might disclose your personally identifiable information, and how you can manage your information.\", \"value\": \"Introductory/Generic\"}}\n",
      "\n",
      " of type:  <class 'str'>\n",
      "\n",
      "after calling getdicts(): \n",
      " {'Other Type': {'endIndexInSegment': 762, 'startIndexInSegment': 100, 'selectedText': 'At the Atlantic Monthly Group, Inc. (\"The Atlantic\"), we want you to enjoy and benefit from our websites and online services secure in the knowledge that we have implemented fair information practices designed to protect your privacy. Our privacy policy is applicable to The Atlantic, and The Atlantics affiliates and subsidiaries whose websites, mobile applications and other online services are directly linked (the Sites). The privacy policy describes the kinds of information we may gather during your visit to these Sites, how we use your information, when we might disclose your personally identifiable information, and how you can manage your information.', 'value': 'Introductory/Generic'}}\n",
      "\n",
      " of type:  <class 'dict'>\n"
     ]
    }
   ],
   "source": [
    "# get dicts turn the type = string 'dictionaires' into actualy dictionaries\n",
    "print(\"attribute value pairs: \\n \", example_class.df.attribute_value_pairs.values[0])\n",
    "print(\"\\n of type: \", type(example_class.df.attribute_value_pairs.values[0]))\n",
    "example_class.getdicts()\n",
    "print()\n",
    "print(\"after calling getdicts(): \\n\", example_class.dicts[0])\n",
    "print(\"\\n of type: \", type(example_class.dicts[0]))"
   ]
  },
  {
   "cell_type": "code",
   "execution_count": 11,
   "id": "structural-speaking",
   "metadata": {
    "execution": {
     "iopub.execute_input": "2021-05-21T16:19:09.130234Z",
     "iopub.status.busy": "2021-05-21T16:19:09.124805Z",
     "iopub.status.idle": "2021-05-21T16:19:09.311474Z",
     "shell.execute_reply": "2021-05-21T16:19:09.310750Z"
    },
    "papermill": {
     "duration": 0.221115,
     "end_time": "2021-05-21T16:19:09.311620",
     "exception": false,
     "start_time": "2021-05-21T16:19:09.090505",
     "status": "completed"
    },
    "tags": []
   },
   "outputs": [],
   "source": [
    "# process tuples crate the tuple list per segment, these tuples are used to create the one hot vectors\n",
    "example_class.processtuples()"
   ]
  },
  {
   "cell_type": "code",
   "execution_count": 12,
   "id": "conscious-fitness",
   "metadata": {
    "execution": {
     "iopub.execute_input": "2021-05-21T16:19:09.366009Z",
     "iopub.status.busy": "2021-05-21T16:19:09.365033Z",
     "iopub.status.idle": "2021-05-21T16:19:09.370675Z",
     "shell.execute_reply": "2021-05-21T16:19:09.371104Z"
    },
    "papermill": {
     "duration": 0.035897,
     "end_time": "2021-05-21T16:19:09.371300",
     "exception": false,
     "start_time": "2021-05-21T16:19:09.335403",
     "status": "completed"
    },
    "tags": []
   },
   "outputs": [
    {
     "name": "stdout",
     "output_type": "stream",
     "text": [
      "after calling this function we now have a list of all the tuples that contain information on the respective segment\n",
      "one can see this as: Category, Subcategory, Value \n",
      "\n",
      "[('Other', 'Other Type', 'Introductory/Generic')] \n",
      "[('Other', 'Other Type', 'Introductory/Generic')] \n",
      "[('Other', 'Other Type', 'Introductory/Generic')] \n",
      "[('Other', 'Other Type', 'Introductory/Generic')] \n",
      "[('Other', 'Other Type', 'Practice not covered')] \n",
      "\n",
      "it also produces a list that sees if the values are 'enacted' or true\n",
      "[True] \n",
      "[True] \n",
      "[True] \n",
      "[True] \n",
      "[True] \n",
      "\n",
      "and finally it produces a list with all uqniue tuples found, these are the values\n",
      "in total 253 unqiue tuples / values are in the data\n"
     ]
    }
   ],
   "source": [
    "print(\"after calling this function we now have a list of all the tuples that contain information on the respective segment\")\n",
    "print(\"one can see this as: Category, Subcategory, Value \\n\")\n",
    "f5 = example_class.tuple_list[:5]\n",
    "print(''.join(\"%s \\n\" % f for f in f5))\n",
    "\n",
    "print(\"it also produces a list that sees if the values are 'enacted' or true\")\n",
    "f5 = example_class.dictvalues[:5]\n",
    "print(''.join(\"%s \\n\" % f for f in f5))\n",
    "\n",
    "print(\"and finally it produces a list with all uqniue tuples found, these are the values\")\n",
    "print(\"in total {} unqiue tuples / values are in the data\".format(len(example_class.unique_tups)))"
   ]
  },
  {
   "cell_type": "code",
   "execution_count": 13,
   "id": "speaking-information",
   "metadata": {
    "execution": {
     "iopub.execute_input": "2021-05-21T16:19:09.426260Z",
     "iopub.status.busy": "2021-05-21T16:19:09.425372Z",
     "iopub.status.idle": "2021-05-21T16:19:09.429880Z",
     "shell.execute_reply": "2021-05-21T16:19:09.429262Z"
    },
    "papermill": {
     "duration": 0.034645,
     "end_time": "2021-05-21T16:19:09.430016",
     "exception": false,
     "start_time": "2021-05-21T16:19:09.395371",
     "status": "completed"
    },
    "tags": []
   },
   "outputs": [
    {
     "name": "stdout",
     "output_type": "stream",
     "text": [
      "To get the unique categories and subcategories we call 'getsub()' \n",
      "\n",
      "we then see we have a total number of 10 categories\n",
      "and a total number of 36 subcategories \n",
      "\n",
      "an example of a category: \n",
      " Data Retention \n",
      "\n",
      "an example of a subcategory: \n",
      " ('User Access, Edit and Deletion', 'User Type')\n"
     ]
    }
   ],
   "source": [
    "# we want to do something similar like unique tuples for the category and subcategory classes\n",
    "print(\"To get the unique categories and subcategories we call 'getsub()' \\n\")\n",
    "example_class.getsub()\n",
    "print(\"we then see we have a total number of {} categories\".format(len(example_class.unique_cats)))\n",
    "print(\"and a total number of {} subcategories \\n\".format(len(example_class.unique_atts)))\n",
    "\n",
    "print(\"an example of a category: \\n {} \\n\".format(example_class.unique_cats[0]))\n",
    "print(\"an example of a subcategory: \\n {}\".format(example_class.unique_atts[0]))"
   ]
  },
  {
   "cell_type": "code",
   "execution_count": 14,
   "id": "western-final",
   "metadata": {
    "execution": {
     "iopub.execute_input": "2021-05-21T16:19:09.484919Z",
     "iopub.status.busy": "2021-05-21T16:19:09.484013Z",
     "iopub.status.idle": "2021-05-21T16:19:09.488059Z",
     "shell.execute_reply": "2021-05-21T16:19:09.487457Z"
    },
    "papermill": {
     "duration": 0.033287,
     "end_time": "2021-05-21T16:19:09.488227",
     "exception": false,
     "start_time": "2021-05-21T16:19:09.454940",
     "status": "completed"
    },
    "tags": []
   },
   "outputs": [
    {
     "name": "stdout",
     "output_type": "stream",
     "text": [
      "then if 'set_oh_name' has an input in the function we overwrite these unique tuples. This is done since some values are rare \n",
      "and thus might not apear in either the training or testing set\n",
      "one can create such a list by calling 'return_oh_names()' \n"
     ]
    }
   ],
   "source": [
    "print(\"then if 'set_oh_name' has an input in the function we overwrite these unique tuples. This is done since some values are rare \\nand thus might not apear in either the training or testing set\")\n",
    "print(\"one can create such a list by calling 'return_oh_names()' \")"
   ]
  },
  {
   "cell_type": "code",
   "execution_count": 15,
   "id": "duplicate-segment",
   "metadata": {
    "execution": {
     "iopub.execute_input": "2021-05-21T16:19:09.587180Z",
     "iopub.status.busy": "2021-05-21T16:19:09.581852Z",
     "iopub.status.idle": "2021-05-21T16:19:09.614770Z",
     "shell.execute_reply": "2021-05-21T16:19:09.613895Z"
    },
    "papermill": {
     "duration": 0.101891,
     "end_time": "2021-05-21T16:19:09.615069",
     "exception": false,
     "start_time": "2021-05-21T16:19:09.513178",
     "status": "completed"
    },
    "tags": []
   },
   "outputs": [
    {
     "name": "stdout",
     "output_type": "stream",
     "text": [
      "finally instead of having the data per annotation the data is grouped into segments\n",
      "one can see that we had 20662 rows, i.e. tuples in the tuplist created ealier\n",
      "\n",
      "after calling 'tuplist_per_segment()' we now have a list of information per segment\n",
      "this list has length 3729\n",
      "an example of a segment is: \n",
      "[('Other', 'Other Type', 'Introductory/Generic'), ('Other', 'Other Type', 'Introductory/Generic'), ('Other', 'Other Type', 'Introductory/Generic')]\n",
      "\n",
      "one can see it contains the annotations per annotator\n"
     ]
    }
   ],
   "source": [
    "print(\"finally instead of having the data per annotation the data is grouped into segments\")\n",
    "print(\"one can see that we had {} rows, i.e. tuples in the tuplist created ealier\".format(len(example_class.tuple_list)))\n",
    "example_class.tuplist_per_segment()\n",
    "print(\"\\nafter calling 'tuplist_per_segment()' we now have a list of information per segment\")\n",
    "print(\"this list has length {}\".format(len(example_class.segments_vals)))\n",
    "print(\"an example of a segment is: \\n{}\".format(example_class.segments_vals[0]))\n",
    "print(\"\\none can see it contains the annotations per annotator\")"
   ]
  },
  {
   "cell_type": "markdown",
   "id": "painted-iceland",
   "metadata": {
    "papermill": {
     "duration": 0.025259,
     "end_time": "2021-05-21T16:19:09.666459",
     "exception": false,
     "start_time": "2021-05-21T16:19:09.641200",
     "status": "completed"
    },
    "tags": []
   },
   "source": [
    "Then afther all this preprocessing the *main* function is called, namely new_onehots(). This function return the text segments and one hot vectors for all classificaiton models"
   ]
  },
  {
   "cell_type": "code",
   "execution_count": 16,
   "id": "fourth-confusion",
   "metadata": {
    "execution": {
     "iopub.execute_input": "2021-05-21T16:19:09.737139Z",
     "iopub.status.busy": "2021-05-21T16:19:09.732020Z",
     "iopub.status.idle": "2021-05-21T16:19:10.060605Z",
     "shell.execute_reply": "2021-05-21T16:19:10.060040Z"
    },
    "papermill": {
     "duration": 0.367655,
     "end_time": "2021-05-21T16:19:10.060756",
     "exception": false,
     "start_time": "2021-05-21T16:19:09.693101",
     "status": "completed"
    },
    "tags": []
   },
   "outputs": [],
   "source": [
    "cat_to_sub, cat_to_val, sub_to_val, all_cats, all_subcats, all_vals, all_texts = example_class.new_onehots()"
   ]
  },
  {
   "cell_type": "code",
   "execution_count": 17,
   "id": "inappropriate-charity",
   "metadata": {
    "execution": {
     "iopub.execute_input": "2021-05-21T16:19:10.120013Z",
     "iopub.status.busy": "2021-05-21T16:19:10.119336Z",
     "iopub.status.idle": "2021-05-21T16:19:10.122030Z",
     "shell.execute_reply": "2021-05-21T16:19:10.122733Z"
    },
    "papermill": {
     "duration": 0.036334,
     "end_time": "2021-05-21T16:19:10.122964",
     "exception": false,
     "start_time": "2021-05-21T16:19:10.086630",
     "status": "completed"
    },
    "tags": []
   },
   "outputs": [
    {
     "name": "stdout",
     "output_type": "stream",
     "text": [
      "calling new_onehots returns a tuple with 7 elements. Namely: \n",
      "\n",
      "1) A dictionary that contains the texts and labels for a category to a subcategory \n",
      "2) A dictionary that contains the texts and labels for a category to the values \n",
      "3) A dictionary that contains the texts and labels for a subcategory to the values \n",
      "4) A list of onehot vectors for the categories per segement \n",
      "5) A list of onehot vectors for the subcategories per segement \n",
      "6) A list of onehot vectors for the values per segement \n",
      "7) A list texts/ segments \n"
     ]
    }
   ],
   "source": [
    "print(\"calling new_onehots returns a tuple with 7 elements. Namely: \\n\")\n",
    "print(\"1) A dictionary that contains the texts and labels for a category to a subcategory \")\n",
    "print(\"2) A dictionary that contains the texts and labels for a category to the values \")\n",
    "print(\"3) A dictionary that contains the texts and labels for a subcategory to the values \")\n",
    "print(\"4) A list of onehot vectors for the categories per segement \")\n",
    "print(\"5) A list of onehot vectors for the subcategories per segement \")\n",
    "print(\"6) A list of onehot vectors for the values per segement \")\n",
    "print(\"7) A list texts/ segments \")"
   ]
  },
  {
   "cell_type": "code",
   "execution_count": 18,
   "id": "commercial-little",
   "metadata": {
    "execution": {
     "iopub.execute_input": "2021-05-21T16:19:10.183304Z",
     "iopub.status.busy": "2021-05-21T16:19:10.182614Z",
     "iopub.status.idle": "2021-05-21T16:19:10.185285Z",
     "shell.execute_reply": "2021-05-21T16:19:10.185726Z"
    },
    "papermill": {
     "duration": 0.035023,
     "end_time": "2021-05-21T16:19:10.185906",
     "exception": false,
     "start_time": "2021-05-21T16:19:10.150883",
     "status": "completed"
    },
    "tags": []
   },
   "outputs": [
    {
     "data": {
      "text/plain": [
       "list"
      ]
     },
     "execution_count": 18,
     "metadata": {},
     "output_type": "execute_result"
    }
   ],
   "source": [
    "type(cat_to_sub['Data Retention'])"
   ]
  },
  {
   "cell_type": "markdown",
   "id": "muslim-charter",
   "metadata": {
    "papermill": {
     "duration": 0.026987,
     "end_time": "2021-05-21T16:19:10.240823",
     "exception": false,
     "start_time": "2021-05-21T16:19:10.213836",
     "status": "completed"
    },
    "tags": []
   },
   "source": [
    "# Hierarchical_data\n",
    "\n",
    "This class is used to store the advices for the advice system. It also is used for running a gridsearch"
   ]
  },
  {
   "cell_type": "code",
   "execution_count": 19,
   "id": "prescribed-spank",
   "metadata": {
    "execution": {
     "iopub.execute_input": "2021-05-21T16:19:10.298366Z",
     "iopub.status.busy": "2021-05-21T16:19:10.297684Z",
     "iopub.status.idle": "2021-05-21T16:19:10.375115Z",
     "shell.execute_reply": "2021-05-21T16:19:10.375671Z"
    },
    "papermill": {
     "duration": 0.107888,
     "end_time": "2021-05-21T16:19:10.375844",
     "exception": false,
     "start_time": "2021-05-21T16:19:10.267956",
     "status": "completed"
    },
    "tags": []
   },
   "outputs": [
    {
     "name": "stdout",
     "output_type": "stream",
     "text": [
      "All variables: \n",
      "\n",
      "cat_layer \n",
      "cat_candidates \n",
      "sub_all_layer \n",
      "sub_all_advice \n",
      "sub_layer \n",
      "sub_advice \n",
      "val_layer \n",
      "val_advice \n",
      "cat_names \n",
      "cat_dictionary \n",
      "sub_to_cat_advice \n",
      "val_to_cat_advice \n",
      "candidate_treshold \n",
      "parameter_dictionary \n",
      "\n",
      "All functions: \n",
      "\n",
      "create_gridsearch_advices \n",
      "define_candidates \n",
      "give_all_sub_advice \n",
      "give_sub_advice \n",
      "give_val_advice \n",
      "read_cat_predictions \n",
      "read_sub_predictions \n",
      "return_advice \n",
      "return_candidate \n",
      "return_gridsearch_advice \n",
      "return_predictions \n",
      "return_predictions_layers \n",
      "return_suball_advice \n",
      "save_advice \n",
      "save_gridsearch_advice \n",
      "set_parameters \n",
      "set_variables \n",
      "\n"
     ]
    }
   ],
   "source": [
    "from hierarchical_data import HierarchicalData\n",
    "\n",
    "example_class = HierarchicalData() # the class is initialized with a dataframe\n",
    "attributes = vars(example_class)\n",
    "attnames = [item[0] for item in attributes.items()]\n",
    "print(\"All variables: \\n\")\n",
    "print(''.join(\"%s \\n\" % attname for attname in attnames))\n",
    "all_dir = dir(example_class)\n",
    "all_functions = [method for method in all_dir if not method.startswith('__') and method not in attnames]\n",
    "print(\"All functions: \\n\")\n",
    "print(''.join(\"%s \\n\" % funcname for funcname in all_functions))"
   ]
  },
  {
   "cell_type": "code",
   "execution_count": 20,
   "id": "celtic-disorder",
   "metadata": {
    "execution": {
     "iopub.execute_input": "2021-05-21T16:19:10.434505Z",
     "iopub.status.busy": "2021-05-21T16:19:10.433813Z",
     "iopub.status.idle": "2021-05-21T16:19:10.437445Z",
     "shell.execute_reply": "2021-05-21T16:19:10.437920Z"
    },
    "papermill": {
     "duration": 0.03485,
     "end_time": "2021-05-21T16:19:10.438096",
     "exception": false,
     "start_time": "2021-05-21T16:19:10.403246",
     "status": "completed"
    },
    "tags": []
   },
   "outputs": [],
   "source": [
    "# TODO"
   ]
  }
 ],
 "metadata": {
  "kernelspec": {
   "display_name": "Python 3",
   "language": "python",
   "name": "python3"
  },
  "language_info": {
   "codemirror_mode": {
    "name": "ipython",
    "version": 3
   },
   "file_extension": ".py",
   "mimetype": "text/x-python",
   "name": "python",
   "nbconvert_exporter": "python",
   "pygments_lexer": "ipython3",
   "version": "3.7.10"
  },
  "papermill": {
   "default_parameters": {},
   "duration": 26.879576,
   "end_time": "2021-05-21T16:19:12.821314",
   "environment_variables": {},
   "exception": null,
   "input_path": "__notebook__.ipynb",
   "output_path": "__notebook__.ipynb",
   "parameters": {},
   "start_time": "2021-05-21T16:18:45.941738",
   "version": "2.3.3"
  }
 },
 "nbformat": 4,
 "nbformat_minor": 5
}
